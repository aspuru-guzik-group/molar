{
 "cells": [
  {
   "cell_type": "markdown",
   "metadata": {},
   "source": [
    "# Writing Data"
   ]
  },
  {
   "cell_type": "markdown",
   "metadata": {},
   "source": [
    "## Foreword on availability and potential data loss\n",
    "\n",
    "The database is hosted on a single machine in scinet's infrastructure. When you are accessing, it is through the computer science departement of UofT's network. This means there is a lot of potential point of failure (cs network, scinet's network, hardware failure). Please keep that in mind when using the database.\n",
    "\n",
    "Of course, there is a daily backup. However, if we have a failure just before the daily backup, we could loose a day of work. So please, be careful and indulging and most importantly: **keep the data on your side too**."
   ]
  },
  {
   "cell_type": "markdown",
   "metadata": {},
   "source": [
    "## Overview of the schema\n",
    "\n",
    "The figure here-below is showing the tables of the schema with their relationships. For now all relationships are required, meaning that a `experiment_machine` can not be added without being linked to a `lab`, or a `calculation` can not be existing without referencing a `conformer`. The direction of the arrow is here to show the direction of the dependancy. For instance a `conformer` needs to reference a `molecule` and not the opposite.\n",
    "\n",
    "For most relationship, the columns references share the same names. For instance both `lab` and `experiment_machine` have a column name `lab_id`. All ids in this schema have the type [UUID](https://en.wikipedia.org/wiki/Universally_unique_identifier).\n",
    "\n",
    "A complete overview of the schema can be found in the [Schema section](06_schema.rst)."
   ]
  },
  {
   "cell_type": "markdown",
   "metadata": {},
   "source": [
    "## JSON fields\n",
    "\n",
    "Most tables contains a columns called `metadata` of type `json`. These columns are the dynamic part of the schema that can be defined by the users. It is possible to put whatever data that can be serialized as a [json](https://en.wikipedia.org/wiki/JSON) in these columns.\n",
    "\n",
    "**We will need a naming convention in order to all use the same keys and structure.**\n",
    "\n",
    "When updating a `json` column, the database will concatenate the current content of the row with the new keys. If the key provided match an existing key, then its content will be updated. "
   ]
  },
  {
   "cell_type": "markdown",
   "metadata": {},
   "source": [
    "## From an empty database to an experiment\n",
    "\n",
    "In this section, we will show how to add data to an empty database and consider only the \"experimentalist\" side of the schema. Our goal is to add a row to the table `experiment` with its `xy_data`. We need to fill rows in the following tables: `experiment_machine`, `experiment_type`, `lab`, `synthesis`, `synthesis_machine` and `data_units` to satisfy the relationship contraints."
   ]
  },
  {
   "cell_type": "markdown",
   "metadata": {},
   "source": [
    "First we need to connect to a database. Here I am using a database that is running on my computer. You can safely ignore the warning when initializing the client."
   ]
  },
  {
   "cell_type": "code",
   "execution_count": 1,
   "metadata": {},
   "outputs": [
    {
     "name": "stderr",
     "output_type": "stream",
     "text": [
      "/Users/tga/miniconda3/envs/mdb/lib/python3.6/site-packages/sqlalchemy/dialects/postgresql/base.py:3010: SAWarning: Did not recognize type 'xml' of column 'xdl'\n",
      "  \"Did not recognize type '%s' of column '%s'\" % (attype, name)\n",
      "/Users/tga/miniconda3/envs/mdb/lib/python3.6/site-packages/sqlalchemy/ext/declarative/clsregistry.py:129: SAWarning: This declarative base already contains a class with the same class name and module name as sqlalchemy.ext.automap.conformer, and will be replaced in the string-lookup table.\n",
      "  % (item.__module__, item.__name__)\n",
      "/Users/tga/miniconda3/envs/mdb/lib/python3.6/site-packages/sqlalchemy/ext/declarative/clsregistry.py:129: SAWarning: This declarative base already contains a class with the same class name and module name as sqlalchemy.ext.automap.software, and will be replaced in the string-lookup table.\n",
      "  % (item.__module__, item.__name__)\n",
      "/Users/tga/miniconda3/envs/mdb/lib/python3.6/site-packages/sqlalchemy/ext/declarative/clsregistry.py:129: SAWarning: This declarative base already contains a class with the same class name and module name as sqlalchemy.ext.automap.calculation, and will be replaced in the string-lookup table.\n",
      "  % (item.__module__, item.__name__)\n",
      "/Users/tga/miniconda3/envs/mdb/lib/python3.6/site-packages/sqlalchemy/ext/declarative/clsregistry.py:129: SAWarning: This declarative base already contains a class with the same class name and module name as sqlalchemy.ext.automap.calculation_type, and will be replaced in the string-lookup table.\n",
      "  % (item.__module__, item.__name__)\n",
      "/Users/tga/miniconda3/envs/mdb/lib/python3.6/site-packages/sqlalchemy/ext/declarative/clsregistry.py:129: SAWarning: This declarative base already contains a class with the same class name and module name as sqlalchemy.ext.automap.lab, and will be replaced in the string-lookup table.\n",
      "  % (item.__module__, item.__name__)\n",
      "/Users/tga/miniconda3/envs/mdb/lib/python3.6/site-packages/sqlalchemy/ext/declarative/clsregistry.py:129: SAWarning: This declarative base already contains a class with the same class name and module name as sqlalchemy.ext.automap.synth_molecule, and will be replaced in the string-lookup table.\n",
      "  % (item.__module__, item.__name__)\n",
      "/Users/tga/miniconda3/envs/mdb/lib/python3.6/site-packages/sqlalchemy/ext/declarative/clsregistry.py:129: SAWarning: This declarative base already contains a class with the same class name and module name as sqlalchemy.ext.automap.molecule, and will be replaced in the string-lookup table.\n",
      "  % (item.__module__, item.__name__)\n",
      "/Users/tga/miniconda3/envs/mdb/lib/python3.6/site-packages/sqlalchemy/ext/declarative/clsregistry.py:129: SAWarning: This declarative base already contains a class with the same class name and module name as sqlalchemy.ext.automap.molecule_type, and will be replaced in the string-lookup table.\n",
      "  % (item.__module__, item.__name__)\n",
      "/Users/tga/miniconda3/envs/mdb/lib/python3.6/site-packages/sqlalchemy/ext/declarative/clsregistry.py:129: SAWarning: This declarative base already contains a class with the same class name and module name as sqlalchemy.ext.automap.synthesis, and will be replaced in the string-lookup table.\n",
      "  % (item.__module__, item.__name__)\n",
      "/Users/tga/miniconda3/envs/mdb/lib/python3.6/site-packages/sqlalchemy/ext/declarative/clsregistry.py:129: SAWarning: This declarative base already contains a class with the same class name and module name as sqlalchemy.ext.automap.synthesis_machine, and will be replaced in the string-lookup table.\n",
      "  % (item.__module__, item.__name__)\n",
      "/Users/tga/miniconda3/envs/mdb/lib/python3.6/site-packages/sqlalchemy/ext/declarative/clsregistry.py:129: SAWarning: This declarative base already contains a class with the same class name and module name as sqlalchemy.ext.automap.data_unit, and will be replaced in the string-lookup table.\n",
      "  % (item.__module__, item.__name__)\n",
      "/Users/tga/miniconda3/envs/mdb/lib/python3.6/site-packages/sqlalchemy/ext/declarative/clsregistry.py:129: SAWarning: This declarative base already contains a class with the same class name and module name as sqlalchemy.ext.automap.xy_data, and will be replaced in the string-lookup table.\n",
      "  % (item.__module__, item.__name__)\n",
      "/Users/tga/miniconda3/envs/mdb/lib/python3.6/site-packages/sqlalchemy/ext/declarative/clsregistry.py:129: SAWarning: This declarative base already contains a class with the same class name and module name as sqlalchemy.ext.automap.experiment, and will be replaced in the string-lookup table.\n",
      "  % (item.__module__, item.__name__)\n",
      "/Users/tga/miniconda3/envs/mdb/lib/python3.6/site-packages/sqlalchemy/ext/declarative/clsregistry.py:129: SAWarning: This declarative base already contains a class with the same class name and module name as sqlalchemy.ext.automap.experiment_machine, and will be replaced in the string-lookup table.\n",
      "  % (item.__module__, item.__name__)\n",
      "/Users/tga/miniconda3/envs/mdb/lib/python3.6/site-packages/sqlalchemy/ext/declarative/clsregistry.py:129: SAWarning: This declarative base already contains a class with the same class name and module name as sqlalchemy.ext.automap.experiment_type, and will be replaced in the string-lookup table.\n",
      "  % (item.__module__, item.__name__)\n",
      "/Users/tga/miniconda3/envs/mdb/lib/python3.6/site-packages/sqlalchemy/ext/declarative/clsregistry.py:129: SAWarning: This declarative base already contains a class with the same class name and module name as sqlalchemy.ext.automap.molecule_molecule, and will be replaced in the string-lookup table.\n",
      "  % (item.__module__, item.__name__)\n",
      "/Users/tga/miniconda3/envs/mdb/lib/python3.6/site-packages/sqlalchemy/ext/declarative/clsregistry.py:129: SAWarning: This declarative base already contains a class with the same class name and module name as sqlalchemy.ext.automap.alembic_version, and will be replaced in the string-lookup table.\n",
      "  % (item.__module__, item.__name__)\n",
      "/Users/tga/miniconda3/envs/mdb/lib/python3.6/site-packages/sqlalchemy/ext/declarative/clsregistry.py:129: SAWarning: This declarative base already contains a class with the same class name and module name as sqlalchemy.ext.automap.xyz_data, and will be replaced in the string-lookup table.\n",
      "  % (item.__module__, item.__name__)\n",
      "/Users/tga/miniconda3/envs/mdb/lib/python3.6/site-packages/sqlalchemy/ext/declarative/clsregistry.py:129: SAWarning: This declarative base already contains a class with the same class name and module name as sqlalchemy.ext.automap.conformer_molecule, and will be replaced in the string-lookup table.\n",
      "  % (item.__module__, item.__name__)\n"
     ]
    }
   ],
   "source": [
    "import mdb\n",
    "\n",
    "client = mdb.MDBClient(hostname='localhost',\n",
    "                       username='postgres',\n",
    "                       password='',\n",
    "                       database='mdb')"
   ]
  },
  {
   "cell_type": "markdown",
   "metadata": {},
   "source": [
    "Then, let's add a lab. A lab has a name and a short_name that have to be unique. The short_name is just 3 letters that are here for convenience when it comes to select your lab."
   ]
  },
  {
   "cell_type": "code",
   "execution_count": 2,
   "metadata": {
    "scrolled": false
   },
   "outputs": [],
   "source": [
    "rec = client.add_lab(name='Mad Lab', short_name='MAD')"
   ]
  },
  {
   "cell_type": "markdown",
   "metadata": {},
   "source": [
    "All the `add_*` methods return their corresponding row in the [eventstore](05_event_sourcing.ipynb). This row contains all the information regarding the edition of the data in the database:"
   ]
  },
  {
   "cell_type": "code",
   "execution_count": 3,
   "metadata": {},
   "outputs": [
    {
     "name": "stdout",
     "output_type": "stream",
     "text": [
      "event:    create\n",
      "type:     lab\n",
      "uuid:     2b8e9ae2-a5ce-4075-af85-8fdcedbd27fd\n",
      "data:     {'name': 'Mad Lab', 'short_name': 'MAD'}\n",
      "timestamp 2020-03-31 14:05:51.974644\n"
     ]
    }
   ],
   "source": [
    "print(f'event:    {rec.event}')\n",
    "print(f'type:     {rec.type}')\n",
    "print(f'uuid:     {rec.uuid}')\n",
    "print(f'data:     {rec.data}')\n",
    "print(f'timestamp {rec.timestamp}')"
   ]
  },
  {
   "cell_type": "markdown",
   "metadata": {},
   "source": [
    "Returning this information has the advantage that we do not need to query the database again to know what is the `lab_id` of the lab we just added. Indeed `rec.uuid` contains this information. Thus we can go on and add a `synthesis_machine`."
   ]
  },
  {
   "cell_type": "code",
   "execution_count": 4,
   "metadata": {},
   "outputs": [],
   "source": [
    "rec = client.add_synthesis_machine(name='Mad Machine Doing Chemistry',\n",
    "                                   make='MadChem',\n",
    "                                   model='v2048',\n",
    "                                   metadata={'brand': 'Mad Brand'},\n",
    "                                   lab_id=rec.uuid)"
   ]
  },
  {
   "cell_type": "markdown",
   "metadata": {},
   "source": [
    "Note that a `synthesis_machine` could also be a real human chemist as well!\n",
    "\n",
    "In order to add a `synthesis` we need some molecules:"
   ]
  },
  {
   "cell_type": "code",
   "execution_count": 5,
   "metadata": {},
   "outputs": [],
   "source": [
    "event = client.add_molecule_type('fragment')\n",
    "client.add_molecule(smiles='A', molecule_type_id=event.uuid)\n",
    "client.add_molecule(smiles='B', molecule_type_id=event.uuid)\n",
    "client.add_molecule(smiles='C', molecule_type_id=event.uuid)\n",
    "\n",
    "event = client.add_molecule_type('rule_based_molecule')\n",
    "rec = client.add_molecule(smiles='A-UGLY-TYPO-C', \n",
    "                          molecule_type_id=event.uuid,\n",
    "                          reactant_id=[client.get_id('molecule', smiles='A'),\n",
    "                                        client.get_id('molecule', smiles='B'),\n",
    "                                        client.get_id('molecule', smiles='C')])"
   ]
  },
  {
   "cell_type": "markdown",
   "metadata": {},
   "source": [
    "There is a lot going on in this last chunk of code. Let's decompose it step-by-step:\n",
    "\n",
    "First I added 3 fragments `A`, `B` and `C`. The only check the database makes on the smiles is to verify whether they are unique. Making them valid smiles and unique is up to the user.\n",
    "\n",
    "Then I am adding a molecule made from the 3 fragments. This time, instead of getting the fragment_ids through the output of the `add_fragment`, I used the `get_id` method. It takes as an argument the name of a table followed by column valued used to fetch the id. We could do the same for a lab:"
   ]
  },
  {
   "cell_type": "code",
   "execution_count": 6,
   "metadata": {},
   "outputs": [
    {
     "data": {
      "text/plain": [
       "'2b8e9ae2-a5ce-4075-af85-8fdcedbd27fd'"
      ]
     },
     "execution_count": 6,
     "metadata": {},
     "output_type": "execute_result"
    }
   ],
   "source": [
    "client.get_id('lab', short_name='MAD')"
   ]
  },
  {
   "cell_type": "markdown",
   "metadata": {},
   "source": [
    "Lastly, I made an ugly typo. :(\n",
    "\n",
    "Let's fix it!\n",
    "\n",
    "First let's get all the molecules in the database (this can be slow if there is a lot of molecules):"
   ]
  },
  {
   "cell_type": "code",
   "execution_count": 7,
   "metadata": {},
   "outputs": [
    {
     "data": {
      "text/html": [
       "<div>\n",
       "<style scoped>\n",
       "    .dataframe tbody tr th:only-of-type {\n",
       "        vertical-align: middle;\n",
       "    }\n",
       "\n",
       "    .dataframe tbody tr th {\n",
       "        vertical-align: top;\n",
       "    }\n",
       "\n",
       "    .dataframe thead th {\n",
       "        text-align: right;\n",
       "    }\n",
       "</style>\n",
       "<table border=\"1\" class=\"dataframe\">\n",
       "  <thead>\n",
       "    <tr style=\"text-align: right;\">\n",
       "      <th></th>\n",
       "      <th>molecule_id</th>\n",
       "      <th>inchi</th>\n",
       "      <th>cid</th>\n",
       "      <th>molecule_type_id</th>\n",
       "      <th>created_on</th>\n",
       "      <th>metadata</th>\n",
       "      <th>iupac_name</th>\n",
       "      <th>cas</th>\n",
       "      <th>smiles</th>\n",
       "      <th>updated_on</th>\n",
       "    </tr>\n",
       "  </thead>\n",
       "  <tbody>\n",
       "    <tr>\n",
       "      <th>0</th>\n",
       "      <td>d2c69e72-ff8a-47f1-b034-3b100a194f87</td>\n",
       "      <td>None</td>\n",
       "      <td>None</td>\n",
       "      <td>61c3157b-e646-4225-982c-c7bd5c63fa8c</td>\n",
       "      <td>2020-03-31 14:06:21.403313</td>\n",
       "      <td>{}</td>\n",
       "      <td>None</td>\n",
       "      <td>None</td>\n",
       "      <td>A-UGLY-TYPO-C</td>\n",
       "      <td>2020-03-31 14:06:21.403313</td>\n",
       "    </tr>\n",
       "    <tr>\n",
       "      <th>1</th>\n",
       "      <td>553d4524-67a8-447a-b592-60f58488128e</td>\n",
       "      <td>InChI=1S/CH4/h1H4</td>\n",
       "      <td>297</td>\n",
       "      <td>8399fe19-2523-4b86-b504-3df5bdf39c9b</td>\n",
       "      <td>2020-03-31 14:06:10.040051</td>\n",
       "      <td>{}</td>\n",
       "      <td>methane</td>\n",
       "      <td>74-82-8</td>\n",
       "      <td>C</td>\n",
       "      <td>2020-03-31 14:06:10.040051</td>\n",
       "    </tr>\n",
       "    <tr>\n",
       "      <th>2</th>\n",
       "      <td>b209c5b1-ea69-47ef-8df0-5f7de2f710f2</td>\n",
       "      <td>InChI=1S/BH3/h1H3</td>\n",
       "      <td>6331</td>\n",
       "      <td>8399fe19-2523-4b86-b504-3df5bdf39c9b</td>\n",
       "      <td>2020-03-31 14:06:01.454134</td>\n",
       "      <td>{}</td>\n",
       "      <td>borane</td>\n",
       "      <td>13283-31-3</td>\n",
       "      <td>B</td>\n",
       "      <td>2020-03-31 14:06:01.454134</td>\n",
       "    </tr>\n",
       "    <tr>\n",
       "      <th>3</th>\n",
       "      <td>172cb0af-7b94-406a-9197-91aa1f40a74b</td>\n",
       "      <td>None</td>\n",
       "      <td>None</td>\n",
       "      <td>8399fe19-2523-4b86-b504-3df5bdf39c9b</td>\n",
       "      <td>2020-03-31 14:05:55.782201</td>\n",
       "      <td>{}</td>\n",
       "      <td>None</td>\n",
       "      <td>None</td>\n",
       "      <td>A</td>\n",
       "      <td>2020-03-31 14:05:55.782201</td>\n",
       "    </tr>\n",
       "  </tbody>\n",
       "</table>\n",
       "</div>"
      ],
      "text/plain": [
       "                            molecule_id              inchi   cid  \\\n",
       "0  d2c69e72-ff8a-47f1-b034-3b100a194f87               None  None   \n",
       "1  553d4524-67a8-447a-b592-60f58488128e  InChI=1S/CH4/h1H4   297   \n",
       "2  b209c5b1-ea69-47ef-8df0-5f7de2f710f2  InChI=1S/BH3/h1H3  6331   \n",
       "3  172cb0af-7b94-406a-9197-91aa1f40a74b               None  None   \n",
       "\n",
       "                       molecule_type_id                 created_on metadata  \\\n",
       "0  61c3157b-e646-4225-982c-c7bd5c63fa8c 2020-03-31 14:06:21.403313       {}   \n",
       "1  8399fe19-2523-4b86-b504-3df5bdf39c9b 2020-03-31 14:06:10.040051       {}   \n",
       "2  8399fe19-2523-4b86-b504-3df5bdf39c9b 2020-03-31 14:06:01.454134       {}   \n",
       "3  8399fe19-2523-4b86-b504-3df5bdf39c9b 2020-03-31 14:05:55.782201       {}   \n",
       "\n",
       "  iupac_name         cas         smiles                 updated_on  \n",
       "0       None        None  A-UGLY-TYPO-C 2020-03-31 14:06:21.403313  \n",
       "1    methane     74-82-8              C 2020-03-31 14:06:10.040051  \n",
       "2     borane  13283-31-3              B 2020-03-31 14:06:01.454134  \n",
       "3       None        None              A 2020-03-31 14:05:55.782201  "
      ]
     },
     "execution_count": 7,
     "metadata": {},
     "output_type": "execute_result"
    }
   ],
   "source": [
    "df = client.get('molecule')\n",
    "df"
   ]
  },
  {
   "cell_type": "markdown",
   "metadata": {},
   "source": [
    "The `get` function of the client returns by default a pandas.DataFrame. \n",
    "\n",
    "Then let's edit the ugly typo and give it back to the client."
   ]
  },
  {
   "cell_type": "code",
   "execution_count": 8,
   "metadata": {},
   "outputs": [
    {
     "name": "stderr",
     "output_type": "stream",
     "text": [
      "4it [00:00, 58.23it/s]"
     ]
    },
    {
     "name": "stdout",
     "output_type": "stream",
     "text": [
      "event:    update\n",
      "type:     molecule\n",
      "uuid:     d2c69e72-ff8a-47f1-b034-3b100a194f87\n",
      "data:     {'cas': None, 'cid': None, 'inchi': None, 'smiles': 'ABC', 'metadata': {}, 'iupac_name': None, 'molecule_type_id': '61c3157b-e646-4225-982c-c7bd5c63fa8c'}\n",
      "timestamp 2020-03-31 14:06:23.050206\n"
     ]
    },
    {
     "name": "stderr",
     "output_type": "stream",
     "text": [
      "\n"
     ]
    }
   ],
   "source": [
    "df.at[0, 'smiles'] = 'ABC'\n",
    "rec = client.update('molecule', df)\n",
    "\n",
    "print(f'event:    {rec[0].event}')\n",
    "print(f'type:     {rec[0].type}')\n",
    "print(f'uuid:     {rec[0].uuid}')\n",
    "print(f'data:     {rec[0].data}')\n",
    "print(f'timestamp {rec[0].timestamp}')"
   ]
  },
  {
   "cell_type": "markdown",
   "metadata": {},
   "source": [
    "Similarly to the `add_*` methods, the `update` method returns a list of records with the data of the change. Note the event is now `update` and not `create`.\n",
    "\n",
    "The `update` method can accept dictionary, list of dictinary and pandas.DataFrames as second argument"
   ]
  },
  {
   "cell_type": "markdown",
   "metadata": {},
   "source": [
    "Now that we have molecule with no typo, we can add a synthesis:"
   ]
  },
  {
   "cell_type": "code",
   "execution_count": 9,
   "metadata": {},
   "outputs": [],
   "source": [
    "rec = client.add_synthesis(synthesis_machine_id=client.get_id('synthesis_machine', \n",
    "                                                              name='Mad Machine Doing Chemistry'),\n",
    "                           targeted_molecule_id=client.get_id('molecule', smiles='ABC'),\n",
    "                           xdl='<xdl><recipe></recipe></xdl>',\n",
    "                           notes='')"
   ]
  },
  {
   "cell_type": "markdown",
   "metadata": {},
   "source": [
    "When data is inserted on the `synthesis` table, some database magic happens and a human readable id is added to the row:"
   ]
  },
  {
   "cell_type": "code",
   "execution_count": 10,
   "metadata": {},
   "outputs": [
    {
     "data": {
      "text/plain": [
       "'MAD_2020-03-31_0'"
      ]
     },
     "execution_count": 10,
     "metadata": {},
     "output_type": "execute_result"
    }
   ],
   "source": [
    "rec.data['hid']"
   ]
  },
  {
   "cell_type": "markdown",
   "metadata": {},
   "source": [
    "This hid has a format LAB_YYYY_MM_DD_XXX where LAB is the `lab.short_name` and XXX is an increasing number. The idea is that you can use this `hid` to identify your samples."
   ]
  },
  {
   "cell_type": "markdown",
   "metadata": {},
   "source": [
    "Now, maybe you will have some observation during the synthesis that you wish to record.\n",
    "\n",
    "Here is another way to update a row with its `uuid`:"
   ]
  },
  {
   "cell_type": "code",
   "execution_count": 11,
   "metadata": {},
   "outputs": [
    {
     "name": "stderr",
     "output_type": "stream",
     "text": [
      "1it [00:00, 17.32it/s]\n"
     ]
    },
    {
     "data": {
      "text/plain": [
       "[<sqlalchemy.ext.automap.eventstore at 0x1111fdc18>]"
      ]
     },
     "execution_count": 11,
     "metadata": {},
     "output_type": "execute_result"
    }
   ],
   "source": [
    "notes = \"\"\"\n",
    "# Synthesis of ABC\n",
    "\n",
    "Everything went so **smoooothly**, my yield is at **110%**!\n",
    "\n",
    "\"\"\"\n",
    "\n",
    "# This is another way of using the update method:\n",
    "client.update('synthesis', {'notes': notes}, id=rec.uuid)"
   ]
  },
  {
   "cell_type": "markdown",
   "metadata": {},
   "source": [
    "Now, with a bit of python magic, we could render those notes:"
   ]
  },
  {
   "cell_type": "code",
   "execution_count": 12,
   "metadata": {},
   "outputs": [
    {
     "data": {
      "text/html": [
       "<h1>Synthesis of ABC</h1>\n",
       "<p>Everything went so <strong>smoooothly</strong>, my yield is at <strong>110%</strong>!</p>"
      ],
      "text/plain": [
       "<IPython.core.display.HTML object>"
      ]
     },
     "execution_count": 12,
     "metadata": {},
     "output_type": "execute_result"
    }
   ],
   "source": [
    "from IPython.display import HTML\n",
    "from markdown import markdown\n",
    "\n",
    "synthesis = client.get('synthesis', filters=[client.models.synthesis.synthesis_id == rec.uuid])\n",
    "\n",
    "HTML(markdown(synthesis.at[0, 'notes']))"
   ]
  },
  {
   "cell_type": "markdown",
   "metadata": {},
   "source": [
    "Isn't that cool?\n",
    "\n",
    "Let's keep going and add a `experiment_type`, `experiment_machine` and an `experiment`"
   ]
  },
  {
   "cell_type": "code",
   "execution_count": 13,
   "metadata": {},
   "outputs": [],
   "source": [
    "# getting the lab_id\n",
    "lab_id = client.get_id('lab', short_name='MAD')\n",
    "\n",
    "# Adding an experiment type\n",
    "exp_type = client.add_experiment_type('NMR')\n",
    "\n",
    "# Adding a machine\n",
    "exp_machine = client.add_experiment_machine(name='Mad NMR', \n",
    "                                            make='Super NMR',\n",
    "                                            model='V3000',\n",
    "                                            metadata={},\n",
    "                                            experiment_type_id=exp_type.uuid,\n",
    "                                            lab_id=lab_id)\n",
    "\n",
    "# Adding an experiment\n",
    "experiment = client.add_experiment(synthesis_id=synthesis.at[0, 'synthesis_id'],\n",
    "                                   experiment_machine_id=exp_machine.uuid,\n",
    "                                   raw_data_path='C:\\On\\The\\Computer\\The\\Machine\\Is\\Connected\\To.raw',\n",
    "                                   metadata={'param1': 100, 'knob 22': 'on'},\n",
    "                                   notes='')\n"
   ]
  },
  {
   "cell_type": "markdown",
   "metadata": {},
   "source": [
    "The last step is to add data to this experiment, let's generate some dummy data with numpy:"
   ]
  },
  {
   "cell_type": "code",
   "execution_count": 14,
   "metadata": {},
   "outputs": [],
   "source": [
    "import numpy as np\n",
    "\n",
    "x = np.linspace(0, 10, num=100)\n",
    "y = np.cos(x)"
   ]
  },
  {
   "cell_type": "markdown",
   "metadata": {},
   "source": [
    "Let's add a dummy `data_type` and the `xy_data`. You might have data that is not (x, y) data, but maybe (x, y1, y2) then you can just add (x, y1) and (x, y2) as two separate entries in the database."
   ]
  },
  {
   "cell_type": "code",
   "execution_count": 15,
   "metadata": {},
   "outputs": [
    {
     "data": {
      "text/plain": [
       "<sqlalchemy.ext.automap.eventstore at 0x111493780>"
      ]
     },
     "execution_count": 15,
     "metadata": {},
     "output_type": "execute_result"
    }
   ],
   "source": [
    "units = client.add_data_unit('stupid_units')\n",
    "\n",
    "client.add_xy_data_experiment(experiment_id=experiment.uuid,\n",
    "                              name='NMR v1',\n",
    "                              x=x.tolist(),\n",
    "                              y=y.tolist(),\n",
    "                              x_units_id=units.uuid,\n",
    "                              y_units_id=units.uuid)"
   ]
  },
  {
   "cell_type": "markdown",
   "metadata": {},
   "source": [
    "## Fom an empty database to a calculation\n",
    "\n",
    "See [API Reference](07_client_api.rst). (Yes, you've just been RTFM'ed in a manual, deal with it)."
   ]
  }
 ],
 "metadata": {
  "kernelspec": {
   "display_name": "Python 3",
   "language": "python",
   "name": "python3"
  },
  "language_info": {
   "codemirror_mode": {
    "name": "ipython",
    "version": 3
   },
   "file_extension": ".py",
   "mimetype": "text/x-python",
   "name": "python",
   "nbconvert_exporter": "python",
   "pygments_lexer": "ipython3",
   "version": "3.6.10"
  }
 },
 "nbformat": 4,
 "nbformat_minor": 4
}
