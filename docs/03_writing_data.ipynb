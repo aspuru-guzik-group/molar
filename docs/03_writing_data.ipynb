{
 "cells": [
  {
   "cell_type": "markdown",
   "metadata": {},
   "source": [
    "# Writing Data"
   ]
  },
  {
   "cell_type": "markdown",
   "metadata": {},
   "source": [
    "In this section, we will show how to add data to an empty database and consider only the \"experimentalist\" side of the schema. Our goal is to add a row to the table `experiment` with its results in the `xy_data`. We need to fill rows in the following tables: `experiment_machine`, `experiment_type`, `lab`, `synthesis`, `synthesis_machine` and `data_units` to satisfy all the relationship contraints."
   ]
  },
  {
   "cell_type": "markdown",
   "metadata": {},
   "source": [
    "The first step is to connect to the database:"
   ]
  },
  {
   "cell_type": "code",
   "execution_count": 1,
   "metadata": {},
   "outputs": [],
   "source": [
    "import mdb\n",
    "\n",
    "client = mdb.MDBClient(hostname='localhost',\n",
    "                       username='postgres',\n",
    "                       password='',\n",
    "                       database='mdb')"
   ]
  },
  {
   "cell_type": "markdown",
   "metadata": {},
   "source": [
    "Then, let's add a lab. A lab has a name and a short_name that have to be unique. The short_name is just 3 letters that are here for convenience when it comes to select your lab."
   ]
  },
  {
   "cell_type": "code",
   "execution_count": 2,
   "metadata": {
    "scrolled": false
   },
   "outputs": [],
   "source": [
    "rec = client.add_lab(name='Mad Lab', short_name='MAD')"
   ]
  },
  {
   "cell_type": "markdown",
   "metadata": {},
   "source": [
    "All the `add_*` methods return their corresponding row in the [eventstore](05_event_sourcing.ipynb). This row contains all the information regarding the edition of the data in the database:"
   ]
  },
  {
   "cell_type": "code",
   "execution_count": 3,
   "metadata": {},
   "outputs": [
    {
     "name": "stdout",
     "output_type": "stream",
     "text": [
      "event:    create\n",
      "type:     lab\n",
      "uuid:     5541b619-c181-4647-98b6-79516ee24800\n",
      "data:     {'name': 'Mad Lab', 'short_name': 'MAD'}\n",
      "timestamp 2020-04-01 09:20:25.145175\n"
     ]
    }
   ],
   "source": [
    "print(f'event:    {rec.event}')\n",
    "print(f'type:     {rec.type}')\n",
    "print(f'uuid:     {rec.uuid}')\n",
    "print(f'data:     {rec.data}')\n",
    "print(f'timestamp {rec.timestamp}')"
   ]
  },
  {
   "cell_type": "markdown",
   "metadata": {},
   "source": [
    "Returning this information has the advantage that we do not need to query the database again to know what is the `lab_id` of the lab that was just added. Indeed `rec.uuid` contains this information. Thus we can go on and add a `synthesis_machine`."
   ]
  },
  {
   "cell_type": "code",
   "execution_count": 4,
   "metadata": {},
   "outputs": [],
   "source": [
    "rec = client.add_synthesis_machine(name='Mad Machine Doing Chemistry',\n",
    "                                   make='MadChem',\n",
    "                                   model='v2048',\n",
    "                                   metadata={'details': 'somes mad details'},\n",
    "                                   lab_id=rec.uuid)"
   ]
  },
  {
   "cell_type": "markdown",
   "metadata": {},
   "source": [
    "Note a `synthesis_machine` could also list a human chemist. In order to add a `synthesis`, it is also needed to add some molecules:"
   ]
  },
  {
   "cell_type": "code",
   "execution_count": 5,
   "metadata": {},
   "outputs": [],
   "source": [
    "event = client.add_molecule_type('fragment')\n",
    "client.add_molecule(smiles='A', molecule_type_id=event.uuid)\n",
    "client.add_molecule(smiles='B', molecule_type_id=event.uuid)\n",
    "client.add_molecule(smiles='C', molecule_type_id=event.uuid)\n",
    "\n",
    "event = client.add_molecule_type('new_molecule')\n",
    "rec = client.add_molecule(smiles='A-D-C', \n",
    "                          molecule_type_id=event.uuid,\n",
    "                          reactant_id=[client.get_id('molecule', smiles='A'),\n",
    "                                        client.get_id('molecule', smiles='B'),\n",
    "                                        client.get_id('molecule', smiles='C')])"
   ]
  },
  {
   "cell_type": "markdown",
   "metadata": {},
   "source": [
    "This section of code can be broken down as follow:\n",
    "\n",
    " * line 1 adds the molecule type `fragment`\n",
    " * line 2-4 adds molecule A, B and C\n",
    " * line 6 adds the molecule type `new_molecule`\n",
    " * line 7-11 adds a new molecule 'A-D-C' constitued from reactants A, B and C\n",
    " \n",
    "The attentive reader will have noticed a small mistake: 'A-D-C' should be 'A-B-C'. The following chunk of code shows how to fix such mistake."
   ]
  },
  {
   "cell_type": "code",
   "execution_count": 6,
   "metadata": {},
   "outputs": [
    {
     "data": {
      "text/html": [
       "<div>\n",
       "<style scoped>\n",
       "    .dataframe tbody tr th:only-of-type {\n",
       "        vertical-align: middle;\n",
       "    }\n",
       "\n",
       "    .dataframe tbody tr th {\n",
       "        vertical-align: top;\n",
       "    }\n",
       "\n",
       "    .dataframe thead th {\n",
       "        text-align: right;\n",
       "    }\n",
       "</style>\n",
       "<table border=\"1\" class=\"dataframe\">\n",
       "  <thead>\n",
       "    <tr style=\"text-align: right;\">\n",
       "      <th></th>\n",
       "      <th>molecule_id</th>\n",
       "      <th>inchi</th>\n",
       "      <th>cid</th>\n",
       "      <th>molecule_type_id</th>\n",
       "      <th>created_on</th>\n",
       "      <th>metadata</th>\n",
       "      <th>iupac_name</th>\n",
       "      <th>cas</th>\n",
       "      <th>smiles</th>\n",
       "      <th>updated_on</th>\n",
       "    </tr>\n",
       "  </thead>\n",
       "  <tbody>\n",
       "    <tr>\n",
       "      <th>0</th>\n",
       "      <td>6da175a0-af06-42b4-95bf-dfb59d87d16e</td>\n",
       "      <td>None</td>\n",
       "      <td>None</td>\n",
       "      <td>47313a9d-1312-4c22-b57c-38b8bf8dd978</td>\n",
       "      <td>2020-04-01 09:21:14.152737</td>\n",
       "      <td>{}</td>\n",
       "      <td>None</td>\n",
       "      <td>None</td>\n",
       "      <td>A-UGLY-TYPO-C</td>\n",
       "      <td>2020-04-01 09:21:14.152737</td>\n",
       "    </tr>\n",
       "    <tr>\n",
       "      <th>1</th>\n",
       "      <td>5762121f-fd3d-4766-bdfd-4396079bb4e6</td>\n",
       "      <td>InChI=1S/CH4/h1H4</td>\n",
       "      <td>297</td>\n",
       "      <td>4dcfb667-5c9c-4d4f-a123-97cd8bee0513</td>\n",
       "      <td>2020-04-01 09:20:57.534246</td>\n",
       "      <td>{}</td>\n",
       "      <td>methane</td>\n",
       "      <td>74-82-8</td>\n",
       "      <td>C</td>\n",
       "      <td>2020-04-01 09:20:57.534246</td>\n",
       "    </tr>\n",
       "    <tr>\n",
       "      <th>2</th>\n",
       "      <td>1338c13b-8ec0-455d-806e-549256c5e2b4</td>\n",
       "      <td>InChI=1S/BH3/h1H3</td>\n",
       "      <td>6331</td>\n",
       "      <td>4dcfb667-5c9c-4d4f-a123-97cd8bee0513</td>\n",
       "      <td>2020-04-01 09:20:41.715173</td>\n",
       "      <td>{}</td>\n",
       "      <td>borane</td>\n",
       "      <td>13283-31-3</td>\n",
       "      <td>B</td>\n",
       "      <td>2020-04-01 09:20:41.715173</td>\n",
       "    </tr>\n",
       "    <tr>\n",
       "      <th>3</th>\n",
       "      <td>0b0a88df-4d69-4eea-88a9-8c3bceeeeba0</td>\n",
       "      <td>None</td>\n",
       "      <td>None</td>\n",
       "      <td>4dcfb667-5c9c-4d4f-a123-97cd8bee0513</td>\n",
       "      <td>2020-04-01 09:20:25.475240</td>\n",
       "      <td>{}</td>\n",
       "      <td>None</td>\n",
       "      <td>None</td>\n",
       "      <td>A</td>\n",
       "      <td>2020-04-01 09:20:25.475240</td>\n",
       "    </tr>\n",
       "  </tbody>\n",
       "</table>\n",
       "</div>"
      ],
      "text/plain": [
       "                            molecule_id              inchi   cid  \\\n",
       "0  6da175a0-af06-42b4-95bf-dfb59d87d16e               None  None   \n",
       "1  5762121f-fd3d-4766-bdfd-4396079bb4e6  InChI=1S/CH4/h1H4   297   \n",
       "2  1338c13b-8ec0-455d-806e-549256c5e2b4  InChI=1S/BH3/h1H3  6331   \n",
       "3  0b0a88df-4d69-4eea-88a9-8c3bceeeeba0               None  None   \n",
       "\n",
       "                       molecule_type_id                 created_on metadata  \\\n",
       "0  47313a9d-1312-4c22-b57c-38b8bf8dd978 2020-04-01 09:21:14.152737       {}   \n",
       "1  4dcfb667-5c9c-4d4f-a123-97cd8bee0513 2020-04-01 09:20:57.534246       {}   \n",
       "2  4dcfb667-5c9c-4d4f-a123-97cd8bee0513 2020-04-01 09:20:41.715173       {}   \n",
       "3  4dcfb667-5c9c-4d4f-a123-97cd8bee0513 2020-04-01 09:20:25.475240       {}   \n",
       "\n",
       "  iupac_name         cas         smiles                 updated_on  \n",
       "0       None        None  A-UGLY-TYPO-C 2020-04-01 09:21:14.152737  \n",
       "1    methane     74-82-8              C 2020-04-01 09:20:57.534246  \n",
       "2     borane  13283-31-3              B 2020-04-01 09:20:41.715173  \n",
       "3       None        None              A 2020-04-01 09:20:25.475240  "
      ]
     },
     "execution_count": 7,
     "metadata": {},
     "output_type": "execute_result"
    }
   ],
   "source": [
    "df = client.get('molecule')\n",
    "df"
   ]
  },
  {
   "cell_type": "markdown",
   "metadata": {},
   "source": [
    "The `get` function of the client returns by default a `pandas.DataFrame` which is more convenient to work with. The typo can be fixed directly within this DataFrame and its content can be updated as such:"
   ]
  },
  {
   "cell_type": "code",
   "execution_count": 8,
   "metadata": {},
   "outputs": [
    {
     "name": "stderr",
     "output_type": "stream",
     "text": [
      "4it [00:00, 34.26it/s]\n"
     ]
    },
    {
     "name": "stdout",
     "output_type": "stream",
     "text": [
      "event:    update\n",
      "type:     molecule\n",
      "uuid:     6da175a0-af06-42b4-95bf-dfb59d87d16e\n",
      "data:     {'cas': None, 'cid': None, 'inchi': None, 'smiles': 'ABC', 'metadata': {}, 'iupac_name': None, 'molecule_type_id': '47313a9d-1312-4c22-b57c-38b8bf8dd978'}\n",
      "timestamp 2020-04-01 09:21:16.182975\n"
     ]
    }
   ],
   "source": [
    "df.at[0, 'smiles'] = 'ABC'\n",
    "rec = client.update('molecule', df)\n",
    "\n",
    "print(f'event:    {rec[0].event}')\n",
    "print(f'type:     {rec[0].type}')\n",
    "print(f'uuid:     {rec[0].uuid}')\n",
    "print(f'data:     {rec[0].data}')\n",
    "print(f'timestamp {rec[0].timestamp}')"
   ]
  },
  {
   "cell_type": "markdown",
   "metadata": {},
   "source": [
    "Similarly to the `add_*` methods, the `update` method returns a list of records with the data of the change. Note the event is now `update` as we are just updating an entry and and not creating one.\n",
    "\n",
    "The `update` method can accept dictionary, list of dictinary and pandas.DataFrames as second argument. A synthesis can be added in a similar fashion."
   ]
  },
  {
   "cell_type": "code",
   "execution_count": 9,
   "metadata": {},
   "outputs": [],
   "source": [
    "rec = client.add_synthesis(synthesis_machine_id=client.get_id('synthesis_machine', \n",
    "                                                              name='Mad Machine Doing Chemistry'),\n",
    "                           targeted_molecule_id=client.get_id('molecule', smiles='ABC'),\n",
    "                           xdl='<xdl><recipe></recipe></xdl>',\n",
    "                           notes='')"
   ]
  },
  {
   "cell_type": "markdown",
   "metadata": {},
   "source": [
    "The `synthesis` has a special column `hid` (human-readable id) that is meant for chemist to label their samples. This `hid` is automatically generated using the `short_name` of the lab, the current date and a number."
   ]
  },
  {
   "cell_type": "code",
   "execution_count": 10,
   "metadata": {},
   "outputs": [
    {
     "data": {
      "text/plain": [
       "'MAD_2020-04-01_0'"
      ]
     },
     "execution_count": 10,
     "metadata": {},
     "output_type": "execute_result"
    }
   ],
   "source": [
    "rec.data['hid']"
   ]
  },
  {
   "cell_type": "markdown",
   "metadata": {},
   "source": [
    "Eventually, a chemist will have some observations during the synthesis. These observations can be saved in the database as well using the `notes` field."
   ]
  },
  {
   "cell_type": "code",
   "execution_count": 11,
   "metadata": {},
   "outputs": [
    {
     "name": "stderr",
     "output_type": "stream",
     "text": [
      "1it [00:00, 16.56it/s]\n"
     ]
    },
    {
     "data": {
      "text/plain": [
       "[<sqlalchemy.ext.automap.eventstore at 0x11406d0b8>]"
      ]
     },
     "execution_count": 11,
     "metadata": {},
     "output_type": "execute_result"
    }
   ],
   "source": [
    "notes = \"\"\"\n",
    "# Synthesis of ABC\n",
    "\n",
    "Lorem ipsum dolor sit amet, consectetur adipiscing elit, sed do eiusmod tempor incididunt ut labore et dolore magna aliqua. Ut enim ad minim veniam, quis nostrud exercitation ullamco laboris nisi ut aliquip ex ea commodo consequat. Duis aute irure dolor in reprehenderit in voluptate velit esse cillum dolore eu fugiat nulla pariatur. Excepteur sint occaecat cupidatat non proident, sunt in culpa qui officia deserunt mollit anim id est laborum\n",
    "\"\"\"\n",
    "\n",
    "# This is another way of using the update method:\n",
    "client.update('synthesis', {'notes': notes}, id=rec.uuid)"
   ]
  },
  {
   "cell_type": "markdown",
   "metadata": {},
   "source": [
    "Here-above, markdown was used to format the notes. This markdown has the nice feature that it can be rendered easily."
   ]
  },
  {
   "cell_type": "code",
   "execution_count": 12,
   "metadata": {},
   "outputs": [
    {
     "data": {
      "text/html": [
       "<h1>Synthesis of ABC</h1>\n",
       "<p>Lorem ipsum dolor sit amet, consectetur adipiscing elit, sed do eiusmod tempor incididunt ut labore et dolore magna aliqua. Ut enim ad minim veniam, quis nostrud exercitation ullamco laboris nisi ut aliquip ex ea commodo consequat. Duis aute irure dolor in reprehenderit in voluptate velit esse cillum dolore eu fugiat nulla pariatur. Excepteur sint occaecat cupidatat non proident, sunt in culpa qui officia deserunt mollit anim id est laborum</p>"
      ],
      "text/plain": [
       "<IPython.core.display.HTML object>"
      ]
     },
     "execution_count": 1,
     "metadata": {},
     "output_type": "execute_result"
    }
   ],
   "source": [
    "from IPython.display import HTML\n",
    "from markdown import markdown\n",
    "\n",
    "synthesis = client.get('synthesis', filters=[client.models.synthesis.synthesis_id == rec.uuid])\n",
    "\n",
    "HTML(markdown(synthesis.at[0, 'notes']))"
   ]
  },
  {
   "cell_type": "markdown",
   "metadata": {},
   "source": [
    "Now that a `synthesis` has been entered in the database, it is possible to add an experiment. However, an experiment will need to have a link to an `experiment_machine` and an `experiment_type`."
   ]
  },
  {
   "cell_type": "code",
   "execution_count": 13,
   "metadata": {},
   "outputs": [],
   "source": [
    "# getting the lab_id\n",
    "lab_id = client.get_id('lab', short_name='MAD')\n",
    "\n",
    "# Adding an experiment type\n",
    "exp_type = client.add_experiment_type('NMR')\n",
    "\n",
    "# Adding a machine\n",
    "exp_machine = client.add_experiment_machine(name='Mad NMR', \n",
    "                                            make='Super NMR',\n",
    "                                            model='V3000',\n",
    "                                            metadata={},\n",
    "                                            experiment_type_id=exp_type.uuid,\n",
    "                                            lab_id=lab_id)\n",
    "\n",
    "# Adding an experiment\n",
    "experiment = client.add_experiment(synthesis_id=synthesis.at[0, 'synthesis_id'],\n",
    "                                   experiment_machine_id=exp_machine.uuid,\n",
    "                                   raw_data_path='C:\\On\\The\\Computer\\The\\Machine\\Is\\Connected\\To.raw',\n",
    "                                   metadata={'param1': 100, 'knob 22': 'on'},\n",
    "                                   notes='')\n"
   ]
  },
  {
   "cell_type": "markdown",
   "metadata": {},
   "source": [
    "Let's add a dummy `data_type` and the `xy_data`. You might have data that is not (x, y) data, but maybe (x, y1, y2) then you can just add (x, y1) and (x, y2) as two separate entries in the database."
   ]
  },
  {
   "cell_type": "code",
   "execution_count": 15,
   "metadata": {},
   "outputs": [
    {
     "data": {
      "text/plain": [
       "<sqlalchemy.ext.automap.eventstore at 0x1142ee4e0>"
      ]
     },
     "execution_count": 15,
     "metadata": {},
     "output_type": "execute_result"
    }
   ],
   "source": [
    "import numpy as np\n",
    "\n",
    "# Generating some fake data\n",
    "x = np.linspace(0, 10, num=100)\n",
    "y = np.cos(x)\n",
    "\n",
    "units = client.add_data_unit('dummy_units')\n",
    "\n",
    "client.add_xy_data_experiment(experiment_id=experiment.uuid,\n",
    "                              name='NMR v1',\n",
    "                              x=x.tolist(),\n",
    "                              y=y.tolist(),\n",
    "                              x_units_id=units.uuid,\n",
    "                              y_units_id=units.uuid)"
   ]
  }
 ],
 "metadata": {
  "kernelspec": {
   "display_name": "Python 2",
   "language": "python",
   "name": "python2"
  },
  "language_info": {
   "codemirror_mode": {
    "name": "ipython",
    "version": 2
   },
   "file_extension": ".py",
   "mimetype": "text/x-python",
   "name": "python",
   "nbconvert_exporter": "python",
   "pygments_lexer": "ipython2",
   "version": "2.7.17"
  }
 },
 "nbformat": 4,
 "nbformat_minor": 4
}
