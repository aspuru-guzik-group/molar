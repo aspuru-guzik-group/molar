{
 "cells": [
  {
   "cell_type": "markdown",
   "metadata": {},
   "source": [
    "# Reading data\n",
    "\n",
    "Let's explore how we can query the data"
   ]
  },
  {
   "cell_type": "code",
   "execution_count": 1,
   "metadata": {},
   "outputs": [
    {
     "name": "stderr",
     "output_type": "stream",
     "text": [
      "/Users/tga/miniconda3/envs/mdb/lib/python3.6/site-packages/sqlalchemy/dialects/postgresql/base.py:3010: SAWarning: Did not recognize type 'xml' of column 'xdl'\n",
      "  \"Did not recognize type '%s' of column '%s'\" % (attype, name)\n",
      "/Users/tga/miniconda3/envs/mdb/lib/python3.6/site-packages/sqlalchemy/ext/declarative/clsregistry.py:129: SAWarning: This declarative base already contains a class with the same class name and module name as sqlalchemy.ext.automap.conformer, and will be replaced in the string-lookup table.\n",
      "  % (item.__module__, item.__name__)\n",
      "/Users/tga/miniconda3/envs/mdb/lib/python3.6/site-packages/sqlalchemy/ext/declarative/clsregistry.py:129: SAWarning: This declarative base already contains a class with the same class name and module name as sqlalchemy.ext.automap.software, and will be replaced in the string-lookup table.\n",
      "  % (item.__module__, item.__name__)\n",
      "/Users/tga/miniconda3/envs/mdb/lib/python3.6/site-packages/sqlalchemy/ext/declarative/clsregistry.py:129: SAWarning: This declarative base already contains a class with the same class name and module name as sqlalchemy.ext.automap.calculation, and will be replaced in the string-lookup table.\n",
      "  % (item.__module__, item.__name__)\n",
      "/Users/tga/miniconda3/envs/mdb/lib/python3.6/site-packages/sqlalchemy/ext/declarative/clsregistry.py:129: SAWarning: This declarative base already contains a class with the same class name and module name as sqlalchemy.ext.automap.calculation_type, and will be replaced in the string-lookup table.\n",
      "  % (item.__module__, item.__name__)\n",
      "/Users/tga/miniconda3/envs/mdb/lib/python3.6/site-packages/sqlalchemy/ext/declarative/clsregistry.py:129: SAWarning: This declarative base already contains a class with the same class name and module name as sqlalchemy.ext.automap.lab, and will be replaced in the string-lookup table.\n",
      "  % (item.__module__, item.__name__)\n",
      "/Users/tga/miniconda3/envs/mdb/lib/python3.6/site-packages/sqlalchemy/ext/declarative/clsregistry.py:129: SAWarning: This declarative base already contains a class with the same class name and module name as sqlalchemy.ext.automap.synth_molecule, and will be replaced in the string-lookup table.\n",
      "  % (item.__module__, item.__name__)\n",
      "/Users/tga/miniconda3/envs/mdb/lib/python3.6/site-packages/sqlalchemy/ext/declarative/clsregistry.py:129: SAWarning: This declarative base already contains a class with the same class name and module name as sqlalchemy.ext.automap.molecule, and will be replaced in the string-lookup table.\n",
      "  % (item.__module__, item.__name__)\n",
      "/Users/tga/miniconda3/envs/mdb/lib/python3.6/site-packages/sqlalchemy/ext/declarative/clsregistry.py:129: SAWarning: This declarative base already contains a class with the same class name and module name as sqlalchemy.ext.automap.molecule_type, and will be replaced in the string-lookup table.\n",
      "  % (item.__module__, item.__name__)\n",
      "/Users/tga/miniconda3/envs/mdb/lib/python3.6/site-packages/sqlalchemy/ext/declarative/clsregistry.py:129: SAWarning: This declarative base already contains a class with the same class name and module name as sqlalchemy.ext.automap.synthesis, and will be replaced in the string-lookup table.\n",
      "  % (item.__module__, item.__name__)\n",
      "/Users/tga/miniconda3/envs/mdb/lib/python3.6/site-packages/sqlalchemy/ext/declarative/clsregistry.py:129: SAWarning: This declarative base already contains a class with the same class name and module name as sqlalchemy.ext.automap.synthesis_machine, and will be replaced in the string-lookup table.\n",
      "  % (item.__module__, item.__name__)\n",
      "/Users/tga/miniconda3/envs/mdb/lib/python3.6/site-packages/sqlalchemy/ext/declarative/clsregistry.py:129: SAWarning: This declarative base already contains a class with the same class name and module name as sqlalchemy.ext.automap.data_unit, and will be replaced in the string-lookup table.\n",
      "  % (item.__module__, item.__name__)\n",
      "/Users/tga/miniconda3/envs/mdb/lib/python3.6/site-packages/sqlalchemy/ext/declarative/clsregistry.py:129: SAWarning: This declarative base already contains a class with the same class name and module name as sqlalchemy.ext.automap.xy_data, and will be replaced in the string-lookup table.\n",
      "  % (item.__module__, item.__name__)\n",
      "/Users/tga/miniconda3/envs/mdb/lib/python3.6/site-packages/sqlalchemy/ext/declarative/clsregistry.py:129: SAWarning: This declarative base already contains a class with the same class name and module name as sqlalchemy.ext.automap.experiment, and will be replaced in the string-lookup table.\n",
      "  % (item.__module__, item.__name__)\n",
      "/Users/tga/miniconda3/envs/mdb/lib/python3.6/site-packages/sqlalchemy/ext/declarative/clsregistry.py:129: SAWarning: This declarative base already contains a class with the same class name and module name as sqlalchemy.ext.automap.experiment_machine, and will be replaced in the string-lookup table.\n",
      "  % (item.__module__, item.__name__)\n",
      "/Users/tga/miniconda3/envs/mdb/lib/python3.6/site-packages/sqlalchemy/ext/declarative/clsregistry.py:129: SAWarning: This declarative base already contains a class with the same class name and module name as sqlalchemy.ext.automap.experiment_type, and will be replaced in the string-lookup table.\n",
      "  % (item.__module__, item.__name__)\n",
      "/Users/tga/miniconda3/envs/mdb/lib/python3.6/site-packages/sqlalchemy/ext/declarative/clsregistry.py:129: SAWarning: This declarative base already contains a class with the same class name and module name as sqlalchemy.ext.automap.molecule_molecule, and will be replaced in the string-lookup table.\n",
      "  % (item.__module__, item.__name__)\n",
      "/Users/tga/miniconda3/envs/mdb/lib/python3.6/site-packages/sqlalchemy/ext/declarative/clsregistry.py:129: SAWarning: This declarative base already contains a class with the same class name and module name as sqlalchemy.ext.automap.alembic_version, and will be replaced in the string-lookup table.\n",
      "  % (item.__module__, item.__name__)\n",
      "/Users/tga/miniconda3/envs/mdb/lib/python3.6/site-packages/sqlalchemy/ext/declarative/clsregistry.py:129: SAWarning: This declarative base already contains a class with the same class name and module name as sqlalchemy.ext.automap.xyz_data, and will be replaced in the string-lookup table.\n",
      "  % (item.__module__, item.__name__)\n",
      "/Users/tga/miniconda3/envs/mdb/lib/python3.6/site-packages/sqlalchemy/ext/declarative/clsregistry.py:129: SAWarning: This declarative base already contains a class with the same class name and module name as sqlalchemy.ext.automap.conformer_molecule, and will be replaced in the string-lookup table.\n",
      "  % (item.__module__, item.__name__)\n"
     ]
    }
   ],
   "source": [
    "import mdb\n",
    "\n",
    "client = mdb.MDBClient(hostname='localhost',\n",
    "                       username='postgres',\n",
    "                       password='',\n",
    "                       database='mdb')"
   ]
  },
  {
   "cell_type": "markdown",
   "metadata": {},
   "source": [
    "## Simple get query\n",
    "\n",
    "The following statement will download the full content of the table `molecule`."
   ]
  },
  {
   "cell_type": "code",
   "execution_count": 2,
   "metadata": {},
   "outputs": [
    {
     "data": {
      "text/html": [
       "<div>\n",
       "<style scoped>\n",
       "    .dataframe tbody tr th:only-of-type {\n",
       "        vertical-align: middle;\n",
       "    }\n",
       "\n",
       "    .dataframe tbody tr th {\n",
       "        vertical-align: top;\n",
       "    }\n",
       "\n",
       "    .dataframe thead th {\n",
       "        text-align: right;\n",
       "    }\n",
       "</style>\n",
       "<table border=\"1\" class=\"dataframe\">\n",
       "  <thead>\n",
       "    <tr style=\"text-align: right;\">\n",
       "      <th></th>\n",
       "      <th>cas</th>\n",
       "      <th>cid</th>\n",
       "      <th>molecule_id</th>\n",
       "      <th>updated_on</th>\n",
       "      <th>smiles</th>\n",
       "      <th>molecule_type_id</th>\n",
       "      <th>inchi</th>\n",
       "      <th>iupac_name</th>\n",
       "      <th>metadata</th>\n",
       "      <th>created_on</th>\n",
       "    </tr>\n",
       "  </thead>\n",
       "  <tbody>\n",
       "    <tr>\n",
       "      <th>0</th>\n",
       "      <td>74-82-8</td>\n",
       "      <td>297</td>\n",
       "      <td>553d4524-67a8-447a-b592-60f58488128e</td>\n",
       "      <td>2020-03-31 14:07:31.440667</td>\n",
       "      <td>C</td>\n",
       "      <td>8399fe19-2523-4b86-b504-3df5bdf39c9b</td>\n",
       "      <td>InChI=1S/CH4/h1H4</td>\n",
       "      <td>methane</td>\n",
       "      <td>{}</td>\n",
       "      <td>2020-03-31 14:06:10.040051</td>\n",
       "    </tr>\n",
       "    <tr>\n",
       "      <th>1</th>\n",
       "      <td>13283-31-3</td>\n",
       "      <td>6331</td>\n",
       "      <td>b209c5b1-ea69-47ef-8df0-5f7de2f710f2</td>\n",
       "      <td>2020-03-31 14:07:31.440667</td>\n",
       "      <td>B</td>\n",
       "      <td>8399fe19-2523-4b86-b504-3df5bdf39c9b</td>\n",
       "      <td>InChI=1S/BH3/h1H3</td>\n",
       "      <td>borane</td>\n",
       "      <td>{}</td>\n",
       "      <td>2020-03-31 14:06:01.454134</td>\n",
       "    </tr>\n",
       "    <tr>\n",
       "      <th>2</th>\n",
       "      <td>None</td>\n",
       "      <td>None</td>\n",
       "      <td>172cb0af-7b94-406a-9197-91aa1f40a74b</td>\n",
       "      <td>2020-03-31 14:07:31.440667</td>\n",
       "      <td>A</td>\n",
       "      <td>8399fe19-2523-4b86-b504-3df5bdf39c9b</td>\n",
       "      <td>None</td>\n",
       "      <td>None</td>\n",
       "      <td>{}</td>\n",
       "      <td>2020-03-31 14:05:55.782201</td>\n",
       "    </tr>\n",
       "    <tr>\n",
       "      <th>3</th>\n",
       "      <td>None</td>\n",
       "      <td>None</td>\n",
       "      <td>d2c69e72-ff8a-47f1-b034-3b100a194f87</td>\n",
       "      <td>2020-03-31 14:06:23.050206</td>\n",
       "      <td>ABC</td>\n",
       "      <td>61c3157b-e646-4225-982c-c7bd5c63fa8c</td>\n",
       "      <td>None</td>\n",
       "      <td>None</td>\n",
       "      <td>{}</td>\n",
       "      <td>2020-03-31 14:06:21.403313</td>\n",
       "    </tr>\n",
       "  </tbody>\n",
       "</table>\n",
       "</div>"
      ],
      "text/plain": [
       "          cas   cid                           molecule_id  \\\n",
       "0     74-82-8   297  553d4524-67a8-447a-b592-60f58488128e   \n",
       "1  13283-31-3  6331  b209c5b1-ea69-47ef-8df0-5f7de2f710f2   \n",
       "2        None  None  172cb0af-7b94-406a-9197-91aa1f40a74b   \n",
       "3        None  None  d2c69e72-ff8a-47f1-b034-3b100a194f87   \n",
       "\n",
       "                  updated_on smiles                      molecule_type_id  \\\n",
       "0 2020-03-31 14:07:31.440667      C  8399fe19-2523-4b86-b504-3df5bdf39c9b   \n",
       "1 2020-03-31 14:07:31.440667      B  8399fe19-2523-4b86-b504-3df5bdf39c9b   \n",
       "2 2020-03-31 14:07:31.440667      A  8399fe19-2523-4b86-b504-3df5bdf39c9b   \n",
       "3 2020-03-31 14:06:23.050206    ABC  61c3157b-e646-4225-982c-c7bd5c63fa8c   \n",
       "\n",
       "               inchi iupac_name metadata                 created_on  \n",
       "0  InChI=1S/CH4/h1H4    methane       {} 2020-03-31 14:06:10.040051  \n",
       "1  InChI=1S/BH3/h1H3     borane       {} 2020-03-31 14:06:01.454134  \n",
       "2               None       None       {} 2020-03-31 14:05:55.782201  \n",
       "3               None       None       {} 2020-03-31 14:06:21.403313  "
      ]
     },
     "execution_count": 2,
     "metadata": {},
     "output_type": "execute_result"
    }
   ],
   "source": [
    "client.get('molecule')"
   ]
  },
  {
   "cell_type": "markdown",
   "metadata": {},
   "source": [
    "If the table contains a lot of data, this operation could have taken much more time. Luckily there is only one row currently."
   ]
  },
  {
   "cell_type": "markdown",
   "metadata": {},
   "source": [
    "## Query for new data\n",
    "\n",
    "A better way of proceeding would be to ask data that has been added after or at specific timestamp:"
   ]
  },
  {
   "cell_type": "code",
   "execution_count": 9,
   "metadata": {},
   "outputs": [
    {
     "name": "stderr",
     "output_type": "stream",
     "text": [
      "Molecule DEF already exists (event: 391acc86-63db-4a43-a420-d605856d79ff)\n"
     ]
    },
    {
     "data": {
      "text/html": [
       "<div>\n",
       "<style scoped>\n",
       "    .dataframe tbody tr th:only-of-type {\n",
       "        vertical-align: middle;\n",
       "    }\n",
       "\n",
       "    .dataframe tbody tr th {\n",
       "        vertical-align: top;\n",
       "    }\n",
       "\n",
       "    .dataframe thead th {\n",
       "        text-align: right;\n",
       "    }\n",
       "</style>\n",
       "<table border=\"1\" class=\"dataframe\">\n",
       "  <thead>\n",
       "    <tr style=\"text-align: right;\">\n",
       "      <th></th>\n",
       "      <th>cas</th>\n",
       "      <th>cid</th>\n",
       "      <th>molecule_id</th>\n",
       "      <th>updated_on</th>\n",
       "      <th>smiles</th>\n",
       "      <th>molecule_type_id</th>\n",
       "      <th>inchi</th>\n",
       "      <th>iupac_name</th>\n",
       "      <th>metadata</th>\n",
       "      <th>created_on</th>\n",
       "    </tr>\n",
       "  </thead>\n",
       "  <tbody>\n",
       "    <tr>\n",
       "      <th>0</th>\n",
       "      <td>None</td>\n",
       "      <td>None</td>\n",
       "      <td>391acc86-63db-4a43-a420-d605856d79ff</td>\n",
       "      <td>2020-03-31 14:08:00.915527</td>\n",
       "      <td>DEF</td>\n",
       "      <td>61c3157b-e646-4225-982c-c7bd5c63fa8c</td>\n",
       "      <td>None</td>\n",
       "      <td>None</td>\n",
       "      <td>{}</td>\n",
       "      <td>2020-03-31 14:08:00.915527</td>\n",
       "    </tr>\n",
       "  </tbody>\n",
       "</table>\n",
       "</div>"
      ],
      "text/plain": [
       "    cas   cid                           molecule_id  \\\n",
       "0  None  None  391acc86-63db-4a43-a420-d605856d79ff   \n",
       "\n",
       "                  updated_on smiles                      molecule_type_id  \\\n",
       "0 2020-03-31 14:08:00.915527    DEF  61c3157b-e646-4225-982c-c7bd5c63fa8c   \n",
       "\n",
       "  inchi iupac_name metadata                 created_on  \n",
       "0  None       None       {} 2020-03-31 14:08:00.915527  "
      ]
     },
     "execution_count": 9,
     "metadata": {},
     "output_type": "execute_result"
    }
   ],
   "source": [
    "from datetime import datetime\n",
    "\n",
    "rec = client.add_molecule(smiles='DEF',\n",
    "                          molecule_type_id=client.get_id('molecule_type',\n",
    "                                                         name='rule_based_molecule'))\n",
    "client.get('molecule', filters=[client.models.molecule.updated_on >= rec.timestamp])"
   ]
  },
  {
   "cell_type": "markdown",
   "metadata": {},
   "source": [
    "## More advanced examples\n",
    "\n",
    "More complex queries are possible, it may be possible to get them done through the client, or through `sqlalchemy`. We can also store queries on the database to call them latter on.\n"
   ]
  }
 ],
 "metadata": {
  "celltoolbar": "Raw Cell Format",
  "kernelspec": {
   "display_name": "Python 3",
   "language": "python",
   "name": "python3"
  },
  "language_info": {
   "codemirror_mode": {
    "name": "ipython",
    "version": 3
   },
   "file_extension": ".py",
   "mimetype": "text/x-python",
   "name": "python",
   "nbconvert_exporter": "python",
   "pygments_lexer": "ipython3",
   "version": "3.6.10"
  }
 },
 "nbformat": 4,
 "nbformat_minor": 4
}
