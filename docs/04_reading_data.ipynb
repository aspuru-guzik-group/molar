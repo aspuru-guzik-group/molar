{
 "cells": [
  {
   "cell_type": "markdown",
   "metadata": {},
   "source": [
    "# Reading data\n",
    "\n",
    "Let's explore how we can query the data"
   ]
  },
  {
   "cell_type": "code",
   "execution_count": 1,
   "metadata": {},
   "outputs": [],
   "source": [
    "import mdb\n",
    "\n",
    "client = mdb.MDBClient(hostname='localhost',\n",
    "                       username='postgres',\n",
    "                       password='',\n",
    "                       database='mdb')"
   ]
  },
  {
   "cell_type": "markdown",
   "metadata": {},
   "source": [
    "## Simple get query\n",
    "\n",
    "The following statement will download the full content of the table `molecule`."
   ]
  },
  {
   "cell_type": "code",
   "execution_count": 2,
   "metadata": {},
   "outputs": [
    {
     "data": {
      "text/html": [
       "<div>\n",
       "<style scoped>\n",
       "    .dataframe tbody tr th:only-of-type {\n",
       "        vertical-align: middle;\n",
       "    }\n",
       "\n",
       "    .dataframe tbody tr th {\n",
       "        vertical-align: top;\n",
       "    }\n",
       "\n",
       "    .dataframe thead th {\n",
       "        text-align: right;\n",
       "    }\n",
       "</style>\n",
       "<table border=\"1\" class=\"dataframe\">\n",
       "  <thead>\n",
       "    <tr style=\"text-align: right;\">\n",
       "      <th></th>\n",
       "      <th>cid</th>\n",
       "      <th>iupac_name</th>\n",
       "      <th>inchi</th>\n",
       "      <th>metadata</th>\n",
       "      <th>created_on</th>\n",
       "      <th>molecule_type_id</th>\n",
       "      <th>cas</th>\n",
       "      <th>molecule_id</th>\n",
       "      <th>updated_on</th>\n",
       "      <th>smiles</th>\n",
       "    </tr>\n",
       "  </thead>\n",
       "  <tbody>\n",
       "    <tr>\n",
       "      <th>0</th>\n",
       "      <td>297</td>\n",
       "      <td>methane</td>\n",
       "      <td>InChI=1S/CH4/h1H4</td>\n",
       "      <td>{}</td>\n",
       "      <td>2020-04-01 09:20:57.534246</td>\n",
       "      <td>4dcfb667-5c9c-4d4f-a123-97cd8bee0513</td>\n",
       "      <td>74-82-8</td>\n",
       "      <td>5762121f-fd3d-4766-bdfd-4396079bb4e6</td>\n",
       "      <td>2020-04-01 09:21:16.419759</td>\n",
       "      <td>C</td>\n",
       "    </tr>\n",
       "    <tr>\n",
       "      <th>1</th>\n",
       "      <td>6331</td>\n",
       "      <td>borane</td>\n",
       "      <td>InChI=1S/BH3/h1H3</td>\n",
       "      <td>{}</td>\n",
       "      <td>2020-04-01 09:20:41.715173</td>\n",
       "      <td>4dcfb667-5c9c-4d4f-a123-97cd8bee0513</td>\n",
       "      <td>13283-31-3</td>\n",
       "      <td>1338c13b-8ec0-455d-806e-549256c5e2b4</td>\n",
       "      <td>2020-04-01 09:21:16.419759</td>\n",
       "      <td>B</td>\n",
       "    </tr>\n",
       "    <tr>\n",
       "      <th>2</th>\n",
       "      <td>None</td>\n",
       "      <td>None</td>\n",
       "      <td>None</td>\n",
       "      <td>{}</td>\n",
       "      <td>2020-04-01 09:20:25.475240</td>\n",
       "      <td>4dcfb667-5c9c-4d4f-a123-97cd8bee0513</td>\n",
       "      <td>None</td>\n",
       "      <td>0b0a88df-4d69-4eea-88a9-8c3bceeeeba0</td>\n",
       "      <td>2020-04-01 09:21:16.419759</td>\n",
       "      <td>A</td>\n",
       "    </tr>\n",
       "    <tr>\n",
       "      <th>3</th>\n",
       "      <td>None</td>\n",
       "      <td>None</td>\n",
       "      <td>None</td>\n",
       "      <td>{}</td>\n",
       "      <td>2020-04-01 09:21:14.152737</td>\n",
       "      <td>47313a9d-1312-4c22-b57c-38b8bf8dd978</td>\n",
       "      <td>None</td>\n",
       "      <td>6da175a0-af06-42b4-95bf-dfb59d87d16e</td>\n",
       "      <td>2020-04-01 09:21:16.182975</td>\n",
       "      <td>ABC</td>\n",
       "    </tr>\n",
       "  </tbody>\n",
       "</table>\n",
       "</div>"
      ],
      "text/plain": [
       "    cid iupac_name              inchi metadata                 created_on  \\\n",
       "0   297    methane  InChI=1S/CH4/h1H4       {} 2020-04-01 09:20:57.534246   \n",
       "1  6331     borane  InChI=1S/BH3/h1H3       {} 2020-04-01 09:20:41.715173   \n",
       "2  None       None               None       {} 2020-04-01 09:20:25.475240   \n",
       "3  None       None               None       {} 2020-04-01 09:21:14.152737   \n",
       "\n",
       "                       molecule_type_id         cas  \\\n",
       "0  4dcfb667-5c9c-4d4f-a123-97cd8bee0513     74-82-8   \n",
       "1  4dcfb667-5c9c-4d4f-a123-97cd8bee0513  13283-31-3   \n",
       "2  4dcfb667-5c9c-4d4f-a123-97cd8bee0513        None   \n",
       "3  47313a9d-1312-4c22-b57c-38b8bf8dd978        None   \n",
       "\n",
       "                            molecule_id                 updated_on smiles  \n",
       "0  5762121f-fd3d-4766-bdfd-4396079bb4e6 2020-04-01 09:21:16.419759      C  \n",
       "1  1338c13b-8ec0-455d-806e-549256c5e2b4 2020-04-01 09:21:16.419759      B  \n",
       "2  0b0a88df-4d69-4eea-88a9-8c3bceeeeba0 2020-04-01 09:21:16.419759      A  \n",
       "3  6da175a0-af06-42b4-95bf-dfb59d87d16e 2020-04-01 09:21:16.182975    ABC  "
      ]
     },
     "execution_count": 2,
     "metadata": {},
     "output_type": "execute_result"
    }
   ],
   "source": [
    "client.get('molecule')"
   ]
  },
  {
   "cell_type": "markdown",
   "metadata": {},
   "source": [
    "If the table contains a lot of data, this operation could have taken much more time. Luckily there is only one row currently."
   ]
  },
  {
   "cell_type": "markdown",
   "metadata": {},
   "source": [
    "## Query for new data\n",
    "\n",
    "A better way of proceeding would be to ask data that has been added after or at specific timestamp:"
   ]
  },
  {
   "cell_type": "code",
   "execution_count": 3,
   "metadata": {},
   "outputs": [
    {
     "data": {
      "text/html": [
       "<div>\n",
       "<style scoped>\n",
       "    .dataframe tbody tr th:only-of-type {\n",
       "        vertical-align: middle;\n",
       "    }\n",
       "\n",
       "    .dataframe tbody tr th {\n",
       "        vertical-align: top;\n",
       "    }\n",
       "\n",
       "    .dataframe thead th {\n",
       "        text-align: right;\n",
       "    }\n",
       "</style>\n",
       "<table border=\"1\" class=\"dataframe\">\n",
       "  <thead>\n",
       "    <tr style=\"text-align: right;\">\n",
       "      <th></th>\n",
       "      <th>cid</th>\n",
       "      <th>iupac_name</th>\n",
       "      <th>inchi</th>\n",
       "      <th>metadata</th>\n",
       "      <th>created_on</th>\n",
       "      <th>molecule_type_id</th>\n",
       "      <th>cas</th>\n",
       "      <th>molecule_id</th>\n",
       "      <th>updated_on</th>\n",
       "      <th>smiles</th>\n",
       "    </tr>\n",
       "  </thead>\n",
       "  <tbody>\n",
       "    <tr>\n",
       "      <th>0</th>\n",
       "      <td>None</td>\n",
       "      <td>None</td>\n",
       "      <td>None</td>\n",
       "      <td>{}</td>\n",
       "      <td>2020-04-01 09:23:45.794141</td>\n",
       "      <td>47313a9d-1312-4c22-b57c-38b8bf8dd978</td>\n",
       "      <td>None</td>\n",
       "      <td>2e451d97-3e56-4798-b493-fc3574a7b13f</td>\n",
       "      <td>2020-04-01 09:23:45.794141</td>\n",
       "      <td>DEF</td>\n",
       "    </tr>\n",
       "  </tbody>\n",
       "</table>\n",
       "</div>"
      ],
      "text/plain": [
       "    cid iupac_name inchi metadata                 created_on  \\\n",
       "0  None       None  None       {} 2020-04-01 09:23:45.794141   \n",
       "\n",
       "                       molecule_type_id   cas  \\\n",
       "0  47313a9d-1312-4c22-b57c-38b8bf8dd978  None   \n",
       "\n",
       "                            molecule_id                 updated_on smiles  \n",
       "0  2e451d97-3e56-4798-b493-fc3574a7b13f 2020-04-01 09:23:45.794141    DEF  "
      ]
     },
     "execution_count": 3,
     "metadata": {},
     "output_type": "execute_result"
    }
   ],
   "source": [
    "from datetime import datetime\n",
    "\n",
    "rec = client.add_molecule(smiles='DEF',\n",
    "                          molecule_type_id=client.get_id('molecule_type',\n",
    "                                                         name='rule_based_molecule'))\n",
    "client.get('molecule', filters=[client.models.molecule.updated_on >= rec.timestamp])"
   ]
  },
  {
   "cell_type": "markdown",
   "metadata": {},
   "source": [
    "## More advanced examples\n",
    "\n",
    "More complex queries are possible, it may be possible to get them done through the client, or through `sqlalchemy`. We can also store queries on the database to call them latter on.\n"
   ]
  }
 ],
 "metadata": {
  "celltoolbar": "Raw Cell Format",
  "kernelspec": {
   "display_name": "Python 3",
   "language": "python",
   "name": "python3"
  },
  "language_info": {
   "codemirror_mode": {
    "name": "ipython",
    "version": 3
   },
   "file_extension": ".py",
   "mimetype": "text/x-python",
   "name": "python",
   "nbconvert_exporter": "python",
   "pygments_lexer": "ipython3",
   "version": "3.6.10"
  }
 },
 "nbformat": 4,
 "nbformat_minor": 4
}
