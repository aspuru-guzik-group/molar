{
 "cells": [
  {
   "cell_type": "markdown",
   "metadata": {},
   "source": [
    "# Reading data\n",
    "\n",
    "Let's explore how we can query the data"
   ]
  },
  {
   "cell_type": "code",
   "execution_count": 1,
   "metadata": {},
   "outputs": [
    {
     "name": "stderr",
     "output_type": "stream",
     "text": [
      "/Users/tga/miniconda3/envs/mdb/lib/python3.6/site-packages/sqlalchemy/dialects/postgresql/base.py:3010: SAWarning: Did not recognize type 'xml' of column 'xdl'\n",
      "  \"Did not recognize type '%s' of column '%s'\" % (attype, name)\n",
      "/Users/tga/miniconda3/envs/mdb/lib/python3.6/site-packages/sqlalchemy/ext/declarative/clsregistry.py:129: SAWarning: This declarative base already contains a class with the same class name and module name as sqlalchemy.ext.automap.conformer, and will be replaced in the string-lookup table.\n",
      "  % (item.__module__, item.__name__)\n",
      "/Users/tga/miniconda3/envs/mdb/lib/python3.6/site-packages/sqlalchemy/ext/declarative/clsregistry.py:129: SAWarning: This declarative base already contains a class with the same class name and module name as sqlalchemy.ext.automap.molecule, and will be replaced in the string-lookup table.\n",
      "  % (item.__module__, item.__name__)\n",
      "/Users/tga/miniconda3/envs/mdb/lib/python3.6/site-packages/sqlalchemy/ext/declarative/clsregistry.py:129: SAWarning: This declarative base already contains a class with the same class name and module name as sqlalchemy.ext.automap.fragment, and will be replaced in the string-lookup table.\n",
      "  % (item.__module__, item.__name__)\n",
      "/Users/tga/miniconda3/envs/mdb/lib/python3.6/site-packages/sqlalchemy/ext/declarative/clsregistry.py:129: SAWarning: This declarative base already contains a class with the same class name and module name as sqlalchemy.ext.automap.molecule_fragment, and will be replaced in the string-lookup table.\n",
      "  % (item.__module__, item.__name__)\n",
      "/Users/tga/miniconda3/envs/mdb/lib/python3.6/site-packages/sqlalchemy/ext/declarative/clsregistry.py:129: SAWarning: This declarative base already contains a class with the same class name and module name as sqlalchemy.ext.automap.software, and will be replaced in the string-lookup table.\n",
      "  % (item.__module__, item.__name__)\n",
      "/Users/tga/miniconda3/envs/mdb/lib/python3.6/site-packages/sqlalchemy/ext/declarative/clsregistry.py:129: SAWarning: This declarative base already contains a class with the same class name and module name as sqlalchemy.ext.automap.calculation, and will be replaced in the string-lookup table.\n",
      "  % (item.__module__, item.__name__)\n",
      "/Users/tga/miniconda3/envs/mdb/lib/python3.6/site-packages/sqlalchemy/ext/declarative/clsregistry.py:129: SAWarning: This declarative base already contains a class with the same class name and module name as sqlalchemy.ext.automap.calculation_type, and will be replaced in the string-lookup table.\n",
      "  % (item.__module__, item.__name__)\n",
      "/Users/tga/miniconda3/envs/mdb/lib/python3.6/site-packages/sqlalchemy/ext/declarative/clsregistry.py:129: SAWarning: This declarative base already contains a class with the same class name and module name as sqlalchemy.ext.automap.alembic_version, and will be replaced in the string-lookup table.\n",
      "  % (item.__module__, item.__name__)\n",
      "/Users/tga/miniconda3/envs/mdb/lib/python3.6/site-packages/sqlalchemy/ext/declarative/clsregistry.py:129: SAWarning: This declarative base already contains a class with the same class name and module name as sqlalchemy.ext.automap.synthesis_machine, and will be replaced in the string-lookup table.\n",
      "  % (item.__module__, item.__name__)\n",
      "/Users/tga/miniconda3/envs/mdb/lib/python3.6/site-packages/sqlalchemy/ext/declarative/clsregistry.py:129: SAWarning: This declarative base already contains a class with the same class name and module name as sqlalchemy.ext.automap.lab, and will be replaced in the string-lookup table.\n",
      "  % (item.__module__, item.__name__)\n",
      "/Users/tga/miniconda3/envs/mdb/lib/python3.6/site-packages/sqlalchemy/ext/declarative/clsregistry.py:129: SAWarning: This declarative base already contains a class with the same class name and module name as sqlalchemy.ext.automap.xy_data, and will be replaced in the string-lookup table.\n",
      "  % (item.__module__, item.__name__)\n",
      "/Users/tga/miniconda3/envs/mdb/lib/python3.6/site-packages/sqlalchemy/ext/declarative/clsregistry.py:129: SAWarning: This declarative base already contains a class with the same class name and module name as sqlalchemy.ext.automap.experiment, and will be replaced in the string-lookup table.\n",
      "  % (item.__module__, item.__name__)\n",
      "/Users/tga/miniconda3/envs/mdb/lib/python3.6/site-packages/sqlalchemy/ext/declarative/clsregistry.py:129: SAWarning: This declarative base already contains a class with the same class name and module name as sqlalchemy.ext.automap.experiment_machine, and will be replaced in the string-lookup table.\n",
      "  % (item.__module__, item.__name__)\n",
      "/Users/tga/miniconda3/envs/mdb/lib/python3.6/site-packages/sqlalchemy/ext/declarative/clsregistry.py:129: SAWarning: This declarative base already contains a class with the same class name and module name as sqlalchemy.ext.automap.experiment_type, and will be replaced in the string-lookup table.\n",
      "  % (item.__module__, item.__name__)\n",
      "/Users/tga/miniconda3/envs/mdb/lib/python3.6/site-packages/sqlalchemy/ext/declarative/clsregistry.py:129: SAWarning: This declarative base already contains a class with the same class name and module name as sqlalchemy.ext.automap.synthesis, and will be replaced in the string-lookup table.\n",
      "  % (item.__module__, item.__name__)\n",
      "/Users/tga/miniconda3/envs/mdb/lib/python3.6/site-packages/sqlalchemy/ext/declarative/clsregistry.py:129: SAWarning: This declarative base already contains a class with the same class name and module name as sqlalchemy.ext.automap.data_unit, and will be replaced in the string-lookup table.\n",
      "  % (item.__module__, item.__name__)\n",
      "/Users/tga/miniconda3/envs/mdb/lib/python3.6/site-packages/sqlalchemy/ext/declarative/clsregistry.py:129: SAWarning: This declarative base already contains a class with the same class name and module name as sqlalchemy.ext.automap.synth_molecule, and will be replaced in the string-lookup table.\n",
      "  % (item.__module__, item.__name__)\n",
      "/Users/tga/miniconda3/envs/mdb/lib/python3.6/site-packages/sqlalchemy/ext/declarative/clsregistry.py:129: SAWarning: This declarative base already contains a class with the same class name and module name as sqlalchemy.ext.automap.synth_fragment, and will be replaced in the string-lookup table.\n",
      "  % (item.__module__, item.__name__)\n"
     ]
    }
   ],
   "source": [
    "import mdb\n",
    "\n",
    "client = mdb.MDBClient(hostname='localhost',\n",
    "                       username='postgres',\n",
    "                       password='',\n",
    "                       database='mdb')"
   ]
  },
  {
   "cell_type": "markdown",
   "metadata": {},
   "source": [
    "## Simple get query\n",
    "\n",
    "The following statement will download the full content of the table `molecule`."
   ]
  },
  {
   "cell_type": "code",
   "execution_count": 2,
   "metadata": {},
   "outputs": [
    {
     "data": {
      "text/html": [
       "<div>\n",
       "<style scoped>\n",
       "    .dataframe tbody tr th:only-of-type {\n",
       "        vertical-align: middle;\n",
       "    }\n",
       "\n",
       "    .dataframe tbody tr th {\n",
       "        vertical-align: top;\n",
       "    }\n",
       "\n",
       "    .dataframe thead th {\n",
       "        text-align: right;\n",
       "    }\n",
       "</style>\n",
       "<table border=\"1\" class=\"dataframe\">\n",
       "  <thead>\n",
       "    <tr style=\"text-align: right;\">\n",
       "      <th></th>\n",
       "      <th>metadata</th>\n",
       "      <th>smiles</th>\n",
       "      <th>updated_on</th>\n",
       "      <th>molecule_id</th>\n",
       "      <th>created_on</th>\n",
       "    </tr>\n",
       "  </thead>\n",
       "  <tbody>\n",
       "    <tr>\n",
       "      <th>0</th>\n",
       "      <td>{}</td>\n",
       "      <td>ABC</td>\n",
       "      <td>2020-02-17 03:09:48.810674</td>\n",
       "      <td>c053009a-9b1d-44a7-8267-f5befdb03eb0</td>\n",
       "      <td>2020-02-17 03:09:48.673496</td>\n",
       "    </tr>\n",
       "  </tbody>\n",
       "</table>\n",
       "</div>"
      ],
      "text/plain": [
       "  metadata smiles                 updated_on  \\\n",
       "0       {}    ABC 2020-02-17 03:09:48.810674   \n",
       "\n",
       "                            molecule_id                 created_on  \n",
       "0  c053009a-9b1d-44a7-8267-f5befdb03eb0 2020-02-17 03:09:48.673496  "
      ]
     },
     "execution_count": 2,
     "metadata": {},
     "output_type": "execute_result"
    }
   ],
   "source": [
    "client.get('molecule')"
   ]
  },
  {
   "cell_type": "markdown",
   "metadata": {},
   "source": [
    "If the table contains a lot of data, this operation could have taken much more time. Luckily there is only one row currently."
   ]
  },
  {
   "cell_type": "markdown",
   "metadata": {},
   "source": [
    "## Query for new data\n",
    "\n",
    "A better way of proceeding would be to ask data that has been added after or at specific timestamp:"
   ]
  },
  {
   "cell_type": "code",
   "execution_count": 3,
   "metadata": {},
   "outputs": [
    {
     "name": "stderr",
     "output_type": "stream",
     "text": [
      "100%|██████████| 1/1 [00:00<00:00, 12.42it/s]\n"
     ]
    },
    {
     "data": {
      "text/html": [
       "<div>\n",
       "<style scoped>\n",
       "    .dataframe tbody tr th:only-of-type {\n",
       "        vertical-align: middle;\n",
       "    }\n",
       "\n",
       "    .dataframe tbody tr th {\n",
       "        vertical-align: top;\n",
       "    }\n",
       "\n",
       "    .dataframe thead th {\n",
       "        text-align: right;\n",
       "    }\n",
       "</style>\n",
       "<table border=\"1\" class=\"dataframe\">\n",
       "  <thead>\n",
       "    <tr style=\"text-align: right;\">\n",
       "      <th></th>\n",
       "      <th>metadata</th>\n",
       "      <th>smiles</th>\n",
       "      <th>updated_on</th>\n",
       "      <th>molecule_id</th>\n",
       "      <th>created_on</th>\n",
       "    </tr>\n",
       "  </thead>\n",
       "  <tbody>\n",
       "    <tr>\n",
       "      <th>0</th>\n",
       "      <td>{}</td>\n",
       "      <td>DEF</td>\n",
       "      <td>2020-02-17 03:10:16.722259</td>\n",
       "      <td>e3dde6c2-ab0c-4c77-9d55-e52d58a1425d</td>\n",
       "      <td>2020-02-17 03:10:16.722259</td>\n",
       "    </tr>\n",
       "  </tbody>\n",
       "</table>\n",
       "</div>"
      ],
      "text/plain": [
       "  metadata smiles                 updated_on  \\\n",
       "0       {}    DEF 2020-02-17 03:10:16.722259   \n",
       "\n",
       "                            molecule_id                 created_on  \n",
       "0  e3dde6c2-ab0c-4c77-9d55-e52d58a1425d 2020-02-17 03:10:16.722259  "
      ]
     },
     "execution_count": 3,
     "metadata": {},
     "output_type": "execute_result"
    }
   ],
   "source": [
    "from datetime import datetime\n",
    "\n",
    "rec = client.add('molecule', {'smiles': 'DEF'})\n",
    "client.get('molecule', filters=[client.models.molecule.updated_on >= rec[0].timestamp])"
   ]
  },
  {
   "cell_type": "markdown",
   "metadata": {},
   "source": [
    "## More advanced examples\n",
    "\n",
    "More complex queries are possible, it may be possible to get them done through the client, or through `sqlalchemy`. We can also store queries on the database to call them latter on.\n"
   ]
  }
 ],
 "metadata": {
  "kernelspec": {
   "display_name": "Python 3",
   "language": "python",
   "name": "python3"
  },
  "language_info": {
   "codemirror_mode": {
    "name": "ipython",
    "version": 3
   },
   "file_extension": ".py",
   "mimetype": "text/x-python",
   "name": "python",
   "nbconvert_exporter": "python",
   "pygments_lexer": "ipython3",
   "version": "3.6.10"
  }
 },
 "nbformat": 4,
 "nbformat_minor": 4
}
