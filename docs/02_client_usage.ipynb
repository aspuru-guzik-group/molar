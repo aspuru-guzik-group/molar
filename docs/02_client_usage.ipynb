{
 "cells": [
  {
   "cell_type": "markdown",
   "id": "117e4c6a",
   "metadata": {},
   "source": [
    "# Client Usage"
   ]
  },
  {
   "cell_type": "markdown",
   "id": "240b8a03",
   "metadata": {},
   "source": [
    "## Installation\n",
    "\n",
    "Molar is available through PYPI, so you can simply do\n",
    "\n",
    "```bash\n",
    "$ pip install molar\n",
    "```"
   ]
  },
  {
   "cell_type": "code",
   "execution_count": 1,
   "id": "dbd7a21d",
   "metadata": {},
   "outputs": [
    {
     "name": "stderr",
     "output_type": "stream",
     "text": [
      "/Users/tga/.pyenv/versions/3.7.9/envs/molar-test/lib/python3.7/site-packages/jose/backends/cryptography_backend.py:18: CryptographyDeprecationWarning: int_from_bytes is deprecated, use int.from_bytes instead\n",
      "  from cryptography.utils import int_from_bytes, int_to_bytes\n"
     ]
    }
   ],
   "source": [
    "from molar import ClientConfig, Client"
   ]
  },
  {
   "cell_type": "markdown",
   "id": "eecf5904",
   "metadata": {},
   "source": [
    "## Login, credentials and authentication\n",
    "\n",
    "Authentication and user management is implemented separately for each databases. Each database can have a different set of users and superusers. We decided to implement it this way to give the maximum flexibility to the users.\n",
    "\n",
    "If you are using the python client and you provided valid credentials in the client config, the authentication will be done in the background for you. You can verify that your credentials are valid using `Client.test_token()`."
   ]
  },
  {
   "cell_type": "code",
   "execution_count": 2,
   "id": "35a0b287",
   "metadata": {},
   "outputs": [
    {
     "data": {
      "text/plain": [
       "{'email': 'docs@molar.org',\n",
       " 'is_superuser': True,\n",
       " 'is_active': True,\n",
       " 'full_name': 'Molar Docs',\n",
       " 'created_on': '2021-06-11T08:37:34.029713',\n",
       " 'user_id': 1}"
      ]
     },
     "execution_count": 2,
     "metadata": {},
     "output_type": "execute_result"
    }
   ],
   "source": [
    "admin_cfg = ClientConfig(server_url=\"http://localhost:8000\",\n",
    "                         email=\"docs@molar.org\",\n",
    "                         password=\"molar password\",\n",
    "                         database_name=\"main\")\n",
    "\n",
    "admin_client = Client(admin_cfg)\n",
    "\n",
    "admin_client.test_token()"
   ]
  },
  {
   "cell_type": "markdown",
   "id": "bf97e9ea",
   "metadata": {},
   "source": [
    "## Creating a new database\n",
    "\n",
    "Before creating a request to create a new database, one has to choose the structure of the database they want to use. Indeed, one of the features that makes Molar modular is to support virtually any database structure, thanks to [Alembic](https://alembic.sqlalchemy.org/en/latest/).\n",
    "\n",
    "Available databases structure are available as revisions, and can be queried through:"
   ]
  },
  {
   "cell_type": "code",
   "execution_count": 3,
   "id": "9ce27cfa",
   "metadata": {},
   "outputs": [
    {
     "data": {
      "text/html": [
       "<div>\n",
       "<style scoped>\n",
       "    .dataframe tbody tr th:only-of-type {\n",
       "        vertical-align: middle;\n",
       "    }\n",
       "\n",
       "    .dataframe tbody tr th {\n",
       "        vertical-align: top;\n",
       "    }\n",
       "\n",
       "    .dataframe thead th {\n",
       "        text-align: right;\n",
       "    }\n",
       "</style>\n",
       "<table border=\"1\" class=\"dataframe\">\n",
       "  <thead>\n",
       "    <tr style=\"text-align: right;\">\n",
       "      <th></th>\n",
       "      <th>revision</th>\n",
       "      <th>log_entry</th>\n",
       "      <th>branch_labels</th>\n",
       "    </tr>\n",
       "  </thead>\n",
       "  <tbody>\n",
       "    <tr>\n",
       "      <th>0</th>\n",
       "      <td>0bc99b5f8fcc</td>\n",
       "      <td>Rev: 0bc99b5f8fcc (head)\\nParent: f31c7d486f1f...</td>\n",
       "      <td>[eventsourcing, compchem]</td>\n",
       "    </tr>\n",
       "    <tr>\n",
       "      <th>1</th>\n",
       "      <td>311e0c050706</td>\n",
       "      <td>Rev: 311e0c050706 (head)\\nParent: bf3c5d811155...</td>\n",
       "      <td>[molar-main]</td>\n",
       "    </tr>\n",
       "  </tbody>\n",
       "</table>\n",
       "</div>"
      ],
      "text/plain": [
       "       revision                                          log_entry  \\\n",
       "0  0bc99b5f8fcc  Rev: 0bc99b5f8fcc (head)\\nParent: f31c7d486f1f...   \n",
       "1  311e0c050706  Rev: 311e0c050706 (head)\\nParent: bf3c5d811155...   \n",
       "\n",
       "               branch_labels  \n",
       "0  [eventsourcing, compchem]  \n",
       "1               [molar-main]  "
      ]
     },
     "execution_count": 3,
     "metadata": {},
     "output_type": "execute_result"
    }
   ],
   "source": [
    "admin_client.get_alembic_revisions()"
   ]
  },
  {
   "cell_type": "markdown",
   "id": "891bfede",
   "metadata": {},
   "source": [
    "`molar-main` is the structure used for registering database requests. `compchem` contains a base structure for computational chemistry efforts.\n",
    "\n",
    "It is possible to add new structure to Molar. However, you will need to have access to the server. This process in detailed in the section *INCLUDE SECTION HERE*."
   ]
  },
  {
   "cell_type": "markdown",
   "id": "2e8b1f34",
   "metadata": {},
   "source": [
    "To create a new database, one has to make make a request first. The credentials provided in `ClientConfig` do not exists yet, but will be used to create the first superuser once the database request is approved."
   ]
  },
  {
   "cell_type": "code",
   "execution_count": 4,
   "id": "10d59b51",
   "metadata": {},
   "outputs": [
    {
     "data": {
      "text/html": [
       "<pre style=\"white-space:pre;overflow-x:auto;line-height:normal;font-family:Menlo,'DejaVu Sans Mono',consolas,'Courier New',monospace\"><span style=\"color: #7fbfbf; text-decoration-color: #7fbfbf\">[13:03:10] </span><span style=\"color: #000080; text-decoration-color: #000080\">INFO    </span> Database request created                                    <a href=\"file:///Users/tga/AGG/code/goldmine/molar/client.py\"><span style=\"color: #7f7f7f; text-decoration-color: #7f7f7f\">client.py</span></a><span style=\"color: #7f7f7f; text-decoration-color: #7f7f7f\">:108</span>\n",
       "</pre>\n"
      ],
      "text/plain": [
       "\u001b[2;36m[13:03:10]\u001b[0m\u001b[2;36m \u001b[0m\u001b[34mINFO    \u001b[0m Database request created                                    \u001b]8;id=1623668590.958602-61393;file:///Users/tga/AGG/code/goldmine/molar/client.py\u001b\\\u001b[2mclient.py\u001b[0m\u001b]8;;\u001b\\\u001b[2m:108\u001b[0m\n"
      ]
     },
     "metadata": {},
     "output_type": "display_data"
    },
    {
     "data": {
      "text/plain": [
       "{'msg': 'Database request created'}"
      ]
     },
     "execution_count": 4,
     "metadata": {},
     "output_type": "execute_result"
    }
   ],
   "source": [
    "user_cfg = ClientConfig(server_url=\"http://localhost:8000\",\n",
    "                        email=\"new_user@molar.org\",\n",
    "                        password=\"new_password\",\n",
    "                        database_name=\"compchem\")\n",
    "\n",
    "user_client = Client(user_cfg)\n",
    "\n",
    "user_client.database_creation_request(\n",
    "    superuser_fullname=\"New User\",\n",
    "    alembic_revisions=[\"compchem@head\"]\n",
    ")"
   ]
  },
  {
   "cell_type": "markdown",
   "id": "fa6609f5",
   "metadata": {},
   "source": [
    "Then, the database request can be approved by an admin:"
   ]
  },
  {
   "cell_type": "code",
   "execution_count": 5,
   "id": "9e37e41b",
   "metadata": {},
   "outputs": [
    {
     "data": {
      "text/html": [
       "<pre style=\"white-space:pre;overflow-x:auto;line-height:normal;font-family:Menlo,'DejaVu Sans Mono',consolas,'Courier New',monospace\"><span style=\"color: #7fbfbf; text-decoration-color: #7fbfbf\">[13:03:16] </span><span style=\"color: #000080; text-decoration-color: #000080\">INFO    </span> Database compchem created.                                  <a href=\"file:///Users/tga/AGG/code/goldmine/molar/client.py\"><span style=\"color: #7f7f7f; text-decoration-color: #7f7f7f\">client.py</span></a><span style=\"color: #7f7f7f; text-decoration-color: #7f7f7f\">:108</span>\n",
       "</pre>\n"
      ],
      "text/plain": [
       "\u001b[2;36m[13:03:16]\u001b[0m\u001b[2;36m \u001b[0m\u001b[34mINFO    \u001b[0m Database compchem created.                                  \u001b]8;id=1623668596.572819-327467;file:///Users/tga/AGG/code/goldmine/molar/client.py\u001b\\\u001b[2mclient.py\u001b[0m\u001b]8;;\u001b\\\u001b[2m:108\u001b[0m\n"
      ]
     },
     "metadata": {},
     "output_type": "display_data"
    },
    {
     "data": {
      "text/plain": [
       "{'msg': 'Database compchem created.'}"
      ]
     },
     "execution_count": 5,
     "metadata": {},
     "output_type": "execute_result"
    }
   ],
   "source": [
    "admin_client.approve_database(\"compchem\")"
   ]
  },
  {
   "cell_type": "markdown",
   "id": "daf35866",
   "metadata": {},
   "source": [
    "Now that the database `compchem` has been created, I can login with a new client:"
   ]
  },
  {
   "cell_type": "code",
   "execution_count": 6,
   "id": "bce484d3",
   "metadata": {},
   "outputs": [
    {
     "data": {
      "text/plain": [
       "{'email': 'new_user@molar.org',\n",
       " 'is_superuser': True,\n",
       " 'is_active': True,\n",
       " 'full_name': 'New User',\n",
       " 'created_on': '2021-06-14T11:03:16.585067',\n",
       " 'user_id': 1}"
      ]
     },
     "execution_count": 6,
     "metadata": {},
     "output_type": "execute_result"
    }
   ],
   "source": [
    "user_client.test_token()"
   ]
  },
  {
   "cell_type": "markdown",
   "id": "e8d54750",
   "metadata": {},
   "source": [
    "As you can see here-above, `new_user@molar.org` is the superuser for this new database."
   ]
  },
  {
   "cell_type": "markdown",
   "id": "39b3ee63",
   "metadata": {},
   "source": [
    "## Managing users"
   ]
  },
  {
   "cell_type": "markdown",
   "id": "355e6cfc",
   "metadata": {},
   "source": [
    "There are two ways to add users to the newly created database. Either the superuser can add them using `Client.add_user`, or it is possible for new users to register themselves. For example:"
   ]
  },
  {
   "cell_type": "code",
   "execution_count": 7,
   "id": "3ccfbe56",
   "metadata": {},
   "outputs": [
    {
     "data": {
      "text/html": [
       "<pre style=\"white-space:pre;overflow-x:auto;line-height:normal;font-family:Menlo,'DejaVu Sans Mono',consolas,'Courier New',monospace\"><span style=\"color: #7fbfbf; text-decoration-color: #7fbfbf\">[13:03:19] </span><span style=\"color: #000080; text-decoration-color: #000080\">INFO    </span> User new_user2@molar.org has been register. Ask your        <a href=\"file:///Users/tga/AGG/code/goldmine/molar/client.py\"><span style=\"color: #7f7f7f; text-decoration-color: #7f7f7f\">client.py</span></a><span style=\"color: #7f7f7f; text-decoration-color: #7f7f7f\">:108</span>\n",
       "                    database admin to activate this account                                  \n",
       "</pre>\n"
      ],
      "text/plain": [
       "\u001b[2;36m[13:03:19]\u001b[0m\u001b[2;36m \u001b[0m\u001b[34mINFO    \u001b[0m User new_user2@molar.org has been register. Ask your        \u001b]8;id=1623668599.216133-710840;file:///Users/tga/AGG/code/goldmine/molar/client.py\u001b\\\u001b[2mclient.py\u001b[0m\u001b]8;;\u001b\\\u001b[2m:108\u001b[0m\n",
       "                    database admin to activate this account                                  \n"
      ]
     },
     "metadata": {},
     "output_type": "display_data"
    },
    {
     "data": {
      "text/plain": [
       "{'msg': 'User new_user2@molar.org has been register. Ask your database admin to activate this account'}"
      ]
     },
     "execution_count": 7,
     "metadata": {},
     "output_type": "execute_result"
    }
   ],
   "source": [
    "new_test_user_cfg = ClientConfig(server_url=\"http://localhost:8000\",\n",
    "                                 email=\"new_user2@molar.org\",\n",
    "                                 password=\"another new password\",\n",
    "                                 database_name=\"compchem\")\n",
    "new_test_user_client = Client(new_test_user_cfg)\n",
    "\n",
    "new_test_user_client.register_user(full_name=\"Full Name\")"
   ]
  },
  {
   "cell_type": "markdown",
   "id": "9de6c6c7",
   "metadata": {},
   "source": [
    "Once this is done, the superuser of the database needs activate this new account."
   ]
  },
  {
   "cell_type": "code",
   "execution_count": 8,
   "id": "f09e0be5",
   "metadata": {},
   "outputs": [
    {
     "data": {
      "text/html": [
       "<pre style=\"white-space:pre;overflow-x:auto;line-height:normal;font-family:Menlo,'DejaVu Sans Mono',consolas,'Courier New',monospace\"><span style=\"color: #7fbfbf; text-decoration-color: #7fbfbf\">[13:03:20] </span><span style=\"color: #000080; text-decoration-color: #000080\">INFO    </span> User new_user2@molar.org is now active!                     <a href=\"file:///Users/tga/AGG/code/goldmine/molar/client.py\"><span style=\"color: #7f7f7f; text-decoration-color: #7f7f7f\">client.py</span></a><span style=\"color: #7f7f7f; text-decoration-color: #7f7f7f\">:108</span>\n",
       "</pre>\n"
      ],
      "text/plain": [
       "\u001b[2;36m[13:03:20]\u001b[0m\u001b[2;36m \u001b[0m\u001b[34mINFO    \u001b[0m User new_user2@molar.org is now active!                     \u001b]8;id=1623668600.316715-691739;file:///Users/tga/AGG/code/goldmine/molar/client.py\u001b\\\u001b[2mclient.py\u001b[0m\u001b]8;;\u001b\\\u001b[2m:108\u001b[0m\n"
      ]
     },
     "metadata": {},
     "output_type": "display_data"
    },
    {
     "data": {
      "text/plain": [
       "{'msg': 'User new_user2@molar.org is now active!'}"
      ]
     },
     "execution_count": 8,
     "metadata": {},
     "output_type": "execute_result"
    }
   ],
   "source": [
    "user_client.activate_user(\"new_user2@molar.org\")"
   ]
  },
  {
   "cell_type": "code",
   "execution_count": 9,
   "id": "a753c565",
   "metadata": {},
   "outputs": [
    {
     "data": {
      "text/plain": [
       "{'email': 'new_user2@molar.org',\n",
       " 'is_superuser': False,\n",
       " 'is_active': True,\n",
       " 'full_name': 'Full Name',\n",
       " 'created_on': '2021-06-14T11:03:19.199980',\n",
       " 'user_id': 2}"
      ]
     },
     "execution_count": 9,
     "metadata": {},
     "output_type": "execute_result"
    }
   ],
   "source": [
    "new_test_user_client.test_token()"
   ]
  },
  {
   "cell_type": "markdown",
   "id": "769d36c6",
   "metadata": {},
   "source": [
    "Similarly, a superuser could also deactivate this account with `Client.deactivate_user()`.\n",
    "\n",
    "To get information about the uers, the superuser can do the following:"
   ]
  },
  {
   "cell_type": "code",
   "execution_count": 10,
   "id": "1135333f",
   "metadata": {},
   "outputs": [
    {
     "data": {
      "text/html": [
       "<div>\n",
       "<style scoped>\n",
       "    .dataframe tbody tr th:only-of-type {\n",
       "        vertical-align: middle;\n",
       "    }\n",
       "\n",
       "    .dataframe tbody tr th {\n",
       "        vertical-align: top;\n",
       "    }\n",
       "\n",
       "    .dataframe thead th {\n",
       "        text-align: right;\n",
       "    }\n",
       "</style>\n",
       "<table border=\"1\" class=\"dataframe\">\n",
       "  <thead>\n",
       "    <tr style=\"text-align: right;\">\n",
       "      <th></th>\n",
       "      <th>email</th>\n",
       "      <th>is_superuser</th>\n",
       "      <th>is_active</th>\n",
       "      <th>full_name</th>\n",
       "      <th>created_on</th>\n",
       "    </tr>\n",
       "  </thead>\n",
       "  <tbody>\n",
       "    <tr>\n",
       "      <th>0</th>\n",
       "      <td>new_user@molar.org</td>\n",
       "      <td>True</td>\n",
       "      <td>True</td>\n",
       "      <td>New User</td>\n",
       "      <td>2021-06-14T11:03:16.585067</td>\n",
       "    </tr>\n",
       "    <tr>\n",
       "      <th>1</th>\n",
       "      <td>new_user2@molar.org</td>\n",
       "      <td>False</td>\n",
       "      <td>True</td>\n",
       "      <td>Full Name</td>\n",
       "      <td>2021-06-14T11:03:19.199980</td>\n",
       "    </tr>\n",
       "  </tbody>\n",
       "</table>\n",
       "</div>"
      ],
      "text/plain": [
       "                 email  is_superuser  is_active  full_name  \\\n",
       "0   new_user@molar.org          True       True   New User   \n",
       "1  new_user2@molar.org         False       True  Full Name   \n",
       "\n",
       "                   created_on  \n",
       "0  2021-06-14T11:03:16.585067  \n",
       "1  2021-06-14T11:03:19.199980  "
      ]
     },
     "execution_count": 10,
     "metadata": {},
     "output_type": "execute_result"
    }
   ],
   "source": [
    "user_client.get_users()"
   ]
  },
  {
   "cell_type": "markdown",
   "id": "906fbe75",
   "metadata": {},
   "source": [
    "## Data Manipulation\n",
    "\n",
    "Before adding any data to the database, we need to know what is its structure."
   ]
  },
  {
   "cell_type": "code",
   "execution_count": 11,
   "id": "3cf2c968",
   "metadata": {},
   "outputs": [
    {
     "data": {
      "text/html": [
       "<div>\n",
       "<style scoped>\n",
       "    .dataframe tbody tr th:only-of-type {\n",
       "        vertical-align: middle;\n",
       "    }\n",
       "\n",
       "    .dataframe tbody tr th {\n",
       "        vertical-align: top;\n",
       "    }\n",
       "\n",
       "    .dataframe thead th {\n",
       "        text-align: right;\n",
       "    }\n",
       "</style>\n",
       "<table border=\"1\" class=\"dataframe\">\n",
       "  <thead>\n",
       "    <tr style=\"text-align: right;\">\n",
       "      <th></th>\n",
       "      <th>table_name</th>\n",
       "      <th>column_name</th>\n",
       "      <th>type</th>\n",
       "      <th>subtype</th>\n",
       "      <th>is_nullable</th>\n",
       "      <th>constraint_name</th>\n",
       "      <th>containt_type</th>\n",
       "      <th>references</th>\n",
       "    </tr>\n",
       "  </thead>\n",
       "  <tbody>\n",
       "    <tr>\n",
       "      <th>0</th>\n",
       "      <td>calculation</td>\n",
       "      <td>calculation_id</td>\n",
       "      <td>uuid</td>\n",
       "      <td>uuid</td>\n",
       "      <td>NO</td>\n",
       "      <td>calculation_pkey</td>\n",
       "      <td>None</td>\n",
       "      <td>calculation.calculation_id</td>\n",
       "    </tr>\n",
       "    <tr>\n",
       "      <th>1</th>\n",
       "      <td>calculation</td>\n",
       "      <td>command_line</td>\n",
       "      <td>text</td>\n",
       "      <td>text</td>\n",
       "      <td>YES</td>\n",
       "      <td>None</td>\n",
       "      <td>None</td>\n",
       "      <td>None</td>\n",
       "    </tr>\n",
       "    <tr>\n",
       "      <th>2</th>\n",
       "      <td>calculation</td>\n",
       "      <td>conformer_id</td>\n",
       "      <td>uuid</td>\n",
       "      <td>uuid</td>\n",
       "      <td>NO</td>\n",
       "      <td>calculation_conformer_id_fkey</td>\n",
       "      <td>None</td>\n",
       "      <td>conformer.conformer_id</td>\n",
       "    </tr>\n",
       "    <tr>\n",
       "      <th>3</th>\n",
       "      <td>calculation</td>\n",
       "      <td>created_on</td>\n",
       "      <td>timestamp without time zone</td>\n",
       "      <td>timestamp</td>\n",
       "      <td>NO</td>\n",
       "      <td>None</td>\n",
       "      <td>None</td>\n",
       "      <td>None</td>\n",
       "    </tr>\n",
       "    <tr>\n",
       "      <th>4</th>\n",
       "      <td>calculation</td>\n",
       "      <td>input_file</td>\n",
       "      <td>text</td>\n",
       "      <td>text</td>\n",
       "      <td>YES</td>\n",
       "      <td>None</td>\n",
       "      <td>None</td>\n",
       "      <td>None</td>\n",
       "    </tr>\n",
       "    <tr>\n",
       "      <th>5</th>\n",
       "      <td>calculation</td>\n",
       "      <td>metadata</td>\n",
       "      <td>jsonb</td>\n",
       "      <td>jsonb</td>\n",
       "      <td>YES</td>\n",
       "      <td>None</td>\n",
       "      <td>None</td>\n",
       "      <td>None</td>\n",
       "    </tr>\n",
       "    <tr>\n",
       "      <th>6</th>\n",
       "      <td>calculation</td>\n",
       "      <td>output_conformer_id</td>\n",
       "      <td>uuid</td>\n",
       "      <td>uuid</td>\n",
       "      <td>YES</td>\n",
       "      <td>calculation_output_conformer_id_fkey</td>\n",
       "      <td>None</td>\n",
       "      <td>conformer.conformer_id</td>\n",
       "    </tr>\n",
       "    <tr>\n",
       "      <th>7</th>\n",
       "      <td>calculation</td>\n",
       "      <td>software_id</td>\n",
       "      <td>uuid</td>\n",
       "      <td>uuid</td>\n",
       "      <td>NO</td>\n",
       "      <td>calculation_software_id_fkey</td>\n",
       "      <td>None</td>\n",
       "      <td>software.software_id</td>\n",
       "    </tr>\n",
       "    <tr>\n",
       "      <th>8</th>\n",
       "      <td>calculation</td>\n",
       "      <td>updated_on</td>\n",
       "      <td>timestamp without time zone</td>\n",
       "      <td>timestamp</td>\n",
       "      <td>NO</td>\n",
       "      <td>None</td>\n",
       "      <td>None</td>\n",
       "      <td>None</td>\n",
       "    </tr>\n",
       "    <tr>\n",
       "      <th>9</th>\n",
       "      <td>conformer</td>\n",
       "      <td>atomic_numbers</td>\n",
       "      <td>ARRAY</td>\n",
       "      <td>_int4</td>\n",
       "      <td>NO</td>\n",
       "      <td>None</td>\n",
       "      <td>None</td>\n",
       "      <td>None</td>\n",
       "    </tr>\n",
       "    <tr>\n",
       "      <th>10</th>\n",
       "      <td>conformer</td>\n",
       "      <td>conformer_id</td>\n",
       "      <td>uuid</td>\n",
       "      <td>uuid</td>\n",
       "      <td>NO</td>\n",
       "      <td>conformer_pkey</td>\n",
       "      <td>None</td>\n",
       "      <td>conformer.conformer_id</td>\n",
       "    </tr>\n",
       "    <tr>\n",
       "      <th>11</th>\n",
       "      <td>conformer</td>\n",
       "      <td>created_on</td>\n",
       "      <td>timestamp without time zone</td>\n",
       "      <td>timestamp</td>\n",
       "      <td>NO</td>\n",
       "      <td>None</td>\n",
       "      <td>None</td>\n",
       "      <td>None</td>\n",
       "    </tr>\n",
       "    <tr>\n",
       "      <th>12</th>\n",
       "      <td>conformer</td>\n",
       "      <td>metadata</td>\n",
       "      <td>jsonb</td>\n",
       "      <td>jsonb</td>\n",
       "      <td>YES</td>\n",
       "      <td>None</td>\n",
       "      <td>None</td>\n",
       "      <td>None</td>\n",
       "    </tr>\n",
       "    <tr>\n",
       "      <th>13</th>\n",
       "      <td>conformer</td>\n",
       "      <td>molecule_id</td>\n",
       "      <td>uuid</td>\n",
       "      <td>uuid</td>\n",
       "      <td>YES</td>\n",
       "      <td>conformer_molecule_id_fkey</td>\n",
       "      <td>None</td>\n",
       "      <td>molecule.molecule_id</td>\n",
       "    </tr>\n",
       "    <tr>\n",
       "      <th>14</th>\n",
       "      <td>conformer</td>\n",
       "      <td>updated_on</td>\n",
       "      <td>timestamp without time zone</td>\n",
       "      <td>timestamp</td>\n",
       "      <td>NO</td>\n",
       "      <td>None</td>\n",
       "      <td>None</td>\n",
       "      <td>None</td>\n",
       "    </tr>\n",
       "    <tr>\n",
       "      <th>15</th>\n",
       "      <td>conformer</td>\n",
       "      <td>x</td>\n",
       "      <td>ARRAY</td>\n",
       "      <td>_float8</td>\n",
       "      <td>NO</td>\n",
       "      <td>None</td>\n",
       "      <td>None</td>\n",
       "      <td>None</td>\n",
       "    </tr>\n",
       "    <tr>\n",
       "      <th>16</th>\n",
       "      <td>conformer</td>\n",
       "      <td>y</td>\n",
       "      <td>ARRAY</td>\n",
       "      <td>_float8</td>\n",
       "      <td>NO</td>\n",
       "      <td>None</td>\n",
       "      <td>None</td>\n",
       "      <td>None</td>\n",
       "    </tr>\n",
       "    <tr>\n",
       "      <th>17</th>\n",
       "      <td>conformer</td>\n",
       "      <td>z</td>\n",
       "      <td>ARRAY</td>\n",
       "      <td>_float8</td>\n",
       "      <td>NO</td>\n",
       "      <td>None</td>\n",
       "      <td>None</td>\n",
       "      <td>None</td>\n",
       "    </tr>\n",
       "    <tr>\n",
       "      <th>18</th>\n",
       "      <td>molecule</td>\n",
       "      <td>created_on</td>\n",
       "      <td>timestamp without time zone</td>\n",
       "      <td>timestamp</td>\n",
       "      <td>NO</td>\n",
       "      <td>None</td>\n",
       "      <td>None</td>\n",
       "      <td>None</td>\n",
       "    </tr>\n",
       "    <tr>\n",
       "      <th>19</th>\n",
       "      <td>molecule</td>\n",
       "      <td>metadata</td>\n",
       "      <td>jsonb</td>\n",
       "      <td>jsonb</td>\n",
       "      <td>YES</td>\n",
       "      <td>None</td>\n",
       "      <td>None</td>\n",
       "      <td>None</td>\n",
       "    </tr>\n",
       "    <tr>\n",
       "      <th>20</th>\n",
       "      <td>molecule</td>\n",
       "      <td>molecule_id</td>\n",
       "      <td>uuid</td>\n",
       "      <td>uuid</td>\n",
       "      <td>NO</td>\n",
       "      <td>molecule_pkey</td>\n",
       "      <td>None</td>\n",
       "      <td>molecule.molecule_id</td>\n",
       "    </tr>\n",
       "    <tr>\n",
       "      <th>21</th>\n",
       "      <td>molecule</td>\n",
       "      <td>molecule_type_id</td>\n",
       "      <td>uuid</td>\n",
       "      <td>uuid</td>\n",
       "      <td>YES</td>\n",
       "      <td>molecule_molecule_type_id_fkey</td>\n",
       "      <td>None</td>\n",
       "      <td>molecule_type.molecule_type_id</td>\n",
       "    </tr>\n",
       "    <tr>\n",
       "      <th>22</th>\n",
       "      <td>molecule</td>\n",
       "      <td>smiles</td>\n",
       "      <td>text</td>\n",
       "      <td>text</td>\n",
       "      <td>NO</td>\n",
       "      <td>molecule_smiles_key</td>\n",
       "      <td>None</td>\n",
       "      <td>molecule.smiles</td>\n",
       "    </tr>\n",
       "    <tr>\n",
       "      <th>23</th>\n",
       "      <td>molecule</td>\n",
       "      <td>updated_on</td>\n",
       "      <td>timestamp without time zone</td>\n",
       "      <td>timestamp</td>\n",
       "      <td>NO</td>\n",
       "      <td>None</td>\n",
       "      <td>None</td>\n",
       "      <td>None</td>\n",
       "    </tr>\n",
       "    <tr>\n",
       "      <th>24</th>\n",
       "      <td>molecule_type</td>\n",
       "      <td>created_on</td>\n",
       "      <td>timestamp without time zone</td>\n",
       "      <td>timestamp</td>\n",
       "      <td>NO</td>\n",
       "      <td>None</td>\n",
       "      <td>None</td>\n",
       "      <td>None</td>\n",
       "    </tr>\n",
       "    <tr>\n",
       "      <th>25</th>\n",
       "      <td>molecule_type</td>\n",
       "      <td>metadata</td>\n",
       "      <td>jsonb</td>\n",
       "      <td>jsonb</td>\n",
       "      <td>YES</td>\n",
       "      <td>None</td>\n",
       "      <td>None</td>\n",
       "      <td>None</td>\n",
       "    </tr>\n",
       "    <tr>\n",
       "      <th>26</th>\n",
       "      <td>molecule_type</td>\n",
       "      <td>molecule_type_id</td>\n",
       "      <td>uuid</td>\n",
       "      <td>uuid</td>\n",
       "      <td>NO</td>\n",
       "      <td>molecule_type_pkey</td>\n",
       "      <td>None</td>\n",
       "      <td>molecule_type.molecule_type_id</td>\n",
       "    </tr>\n",
       "    <tr>\n",
       "      <th>27</th>\n",
       "      <td>molecule_type</td>\n",
       "      <td>name</td>\n",
       "      <td>text</td>\n",
       "      <td>text</td>\n",
       "      <td>NO</td>\n",
       "      <td>molecule_type_name_key</td>\n",
       "      <td>None</td>\n",
       "      <td>molecule_type.name</td>\n",
       "    </tr>\n",
       "    <tr>\n",
       "      <th>28</th>\n",
       "      <td>molecule_type</td>\n",
       "      <td>updated_on</td>\n",
       "      <td>timestamp without time zone</td>\n",
       "      <td>timestamp</td>\n",
       "      <td>NO</td>\n",
       "      <td>None</td>\n",
       "      <td>None</td>\n",
       "      <td>None</td>\n",
       "    </tr>\n",
       "    <tr>\n",
       "      <th>29</th>\n",
       "      <td>numerical_data</td>\n",
       "      <td>calculation_id</td>\n",
       "      <td>uuid</td>\n",
       "      <td>uuid</td>\n",
       "      <td>NO</td>\n",
       "      <td>numerical_data_calculation_id_fkey</td>\n",
       "      <td>None</td>\n",
       "      <td>calculation.calculation_id</td>\n",
       "    </tr>\n",
       "    <tr>\n",
       "      <th>30</th>\n",
       "      <td>numerical_data</td>\n",
       "      <td>created_on</td>\n",
       "      <td>timestamp without time zone</td>\n",
       "      <td>timestamp</td>\n",
       "      <td>NO</td>\n",
       "      <td>None</td>\n",
       "      <td>None</td>\n",
       "      <td>None</td>\n",
       "    </tr>\n",
       "    <tr>\n",
       "      <th>31</th>\n",
       "      <td>numerical_data</td>\n",
       "      <td>data</td>\n",
       "      <td>ARRAY</td>\n",
       "      <td>_float8</td>\n",
       "      <td>YES</td>\n",
       "      <td>None</td>\n",
       "      <td>None</td>\n",
       "      <td>None</td>\n",
       "    </tr>\n",
       "    <tr>\n",
       "      <th>32</th>\n",
       "      <td>numerical_data</td>\n",
       "      <td>metadata</td>\n",
       "      <td>jsonb</td>\n",
       "      <td>jsonb</td>\n",
       "      <td>YES</td>\n",
       "      <td>None</td>\n",
       "      <td>None</td>\n",
       "      <td>None</td>\n",
       "    </tr>\n",
       "    <tr>\n",
       "      <th>33</th>\n",
       "      <td>numerical_data</td>\n",
       "      <td>numerical_data_id</td>\n",
       "      <td>uuid</td>\n",
       "      <td>uuid</td>\n",
       "      <td>NO</td>\n",
       "      <td>numerical_data_pkey</td>\n",
       "      <td>None</td>\n",
       "      <td>numerical_data.numerical_data_id</td>\n",
       "    </tr>\n",
       "    <tr>\n",
       "      <th>34</th>\n",
       "      <td>numerical_data</td>\n",
       "      <td>updated_on</td>\n",
       "      <td>timestamp without time zone</td>\n",
       "      <td>timestamp</td>\n",
       "      <td>NO</td>\n",
       "      <td>None</td>\n",
       "      <td>None</td>\n",
       "      <td>None</td>\n",
       "    </tr>\n",
       "    <tr>\n",
       "      <th>35</th>\n",
       "      <td>software</td>\n",
       "      <td>created_on</td>\n",
       "      <td>timestamp without time zone</td>\n",
       "      <td>timestamp</td>\n",
       "      <td>NO</td>\n",
       "      <td>None</td>\n",
       "      <td>None</td>\n",
       "      <td>None</td>\n",
       "    </tr>\n",
       "    <tr>\n",
       "      <th>36</th>\n",
       "      <td>software</td>\n",
       "      <td>name</td>\n",
       "      <td>text</td>\n",
       "      <td>text</td>\n",
       "      <td>NO</td>\n",
       "      <td>software_name_version_unique</td>\n",
       "      <td>None</td>\n",
       "      <td>software.name</td>\n",
       "    </tr>\n",
       "    <tr>\n",
       "      <th>37</th>\n",
       "      <td>software</td>\n",
       "      <td>name</td>\n",
       "      <td>text</td>\n",
       "      <td>text</td>\n",
       "      <td>NO</td>\n",
       "      <td>software_name_version_unique</td>\n",
       "      <td>None</td>\n",
       "      <td>software.version</td>\n",
       "    </tr>\n",
       "    <tr>\n",
       "      <th>38</th>\n",
       "      <td>software</td>\n",
       "      <td>software_id</td>\n",
       "      <td>uuid</td>\n",
       "      <td>uuid</td>\n",
       "      <td>NO</td>\n",
       "      <td>software_pkey</td>\n",
       "      <td>None</td>\n",
       "      <td>software.software_id</td>\n",
       "    </tr>\n",
       "    <tr>\n",
       "      <th>39</th>\n",
       "      <td>software</td>\n",
       "      <td>updated_on</td>\n",
       "      <td>timestamp without time zone</td>\n",
       "      <td>timestamp</td>\n",
       "      <td>NO</td>\n",
       "      <td>None</td>\n",
       "      <td>None</td>\n",
       "      <td>None</td>\n",
       "    </tr>\n",
       "    <tr>\n",
       "      <th>40</th>\n",
       "      <td>software</td>\n",
       "      <td>version</td>\n",
       "      <td>text</td>\n",
       "      <td>text</td>\n",
       "      <td>NO</td>\n",
       "      <td>software_name_version_unique</td>\n",
       "      <td>None</td>\n",
       "      <td>software.name</td>\n",
       "    </tr>\n",
       "    <tr>\n",
       "      <th>41</th>\n",
       "      <td>software</td>\n",
       "      <td>version</td>\n",
       "      <td>text</td>\n",
       "      <td>text</td>\n",
       "      <td>NO</td>\n",
       "      <td>software_name_version_unique</td>\n",
       "      <td>None</td>\n",
       "      <td>software.version</td>\n",
       "    </tr>\n",
       "  </tbody>\n",
       "</table>\n",
       "</div>"
      ],
      "text/plain": [
       "        table_name          column_name                         type  \\\n",
       "0      calculation       calculation_id                         uuid   \n",
       "1      calculation         command_line                         text   \n",
       "2      calculation         conformer_id                         uuid   \n",
       "3      calculation           created_on  timestamp without time zone   \n",
       "4      calculation           input_file                         text   \n",
       "5      calculation             metadata                        jsonb   \n",
       "6      calculation  output_conformer_id                         uuid   \n",
       "7      calculation          software_id                         uuid   \n",
       "8      calculation           updated_on  timestamp without time zone   \n",
       "9        conformer       atomic_numbers                        ARRAY   \n",
       "10       conformer         conformer_id                         uuid   \n",
       "11       conformer           created_on  timestamp without time zone   \n",
       "12       conformer             metadata                        jsonb   \n",
       "13       conformer          molecule_id                         uuid   \n",
       "14       conformer           updated_on  timestamp without time zone   \n",
       "15       conformer                    x                        ARRAY   \n",
       "16       conformer                    y                        ARRAY   \n",
       "17       conformer                    z                        ARRAY   \n",
       "18        molecule           created_on  timestamp without time zone   \n",
       "19        molecule             metadata                        jsonb   \n",
       "20        molecule          molecule_id                         uuid   \n",
       "21        molecule     molecule_type_id                         uuid   \n",
       "22        molecule               smiles                         text   \n",
       "23        molecule           updated_on  timestamp without time zone   \n",
       "24   molecule_type           created_on  timestamp without time zone   \n",
       "25   molecule_type             metadata                        jsonb   \n",
       "26   molecule_type     molecule_type_id                         uuid   \n",
       "27   molecule_type                 name                         text   \n",
       "28   molecule_type           updated_on  timestamp without time zone   \n",
       "29  numerical_data       calculation_id                         uuid   \n",
       "30  numerical_data           created_on  timestamp without time zone   \n",
       "31  numerical_data                 data                        ARRAY   \n",
       "32  numerical_data             metadata                        jsonb   \n",
       "33  numerical_data    numerical_data_id                         uuid   \n",
       "34  numerical_data           updated_on  timestamp without time zone   \n",
       "35        software           created_on  timestamp without time zone   \n",
       "36        software                 name                         text   \n",
       "37        software                 name                         text   \n",
       "38        software          software_id                         uuid   \n",
       "39        software           updated_on  timestamp without time zone   \n",
       "40        software              version                         text   \n",
       "41        software              version                         text   \n",
       "\n",
       "      subtype is_nullable                       constraint_name containt_type  \\\n",
       "0        uuid          NO                      calculation_pkey          None   \n",
       "1        text         YES                                  None          None   \n",
       "2        uuid          NO         calculation_conformer_id_fkey          None   \n",
       "3   timestamp          NO                                  None          None   \n",
       "4        text         YES                                  None          None   \n",
       "5       jsonb         YES                                  None          None   \n",
       "6        uuid         YES  calculation_output_conformer_id_fkey          None   \n",
       "7        uuid          NO          calculation_software_id_fkey          None   \n",
       "8   timestamp          NO                                  None          None   \n",
       "9       _int4          NO                                  None          None   \n",
       "10       uuid          NO                        conformer_pkey          None   \n",
       "11  timestamp          NO                                  None          None   \n",
       "12      jsonb         YES                                  None          None   \n",
       "13       uuid         YES            conformer_molecule_id_fkey          None   \n",
       "14  timestamp          NO                                  None          None   \n",
       "15    _float8          NO                                  None          None   \n",
       "16    _float8          NO                                  None          None   \n",
       "17    _float8          NO                                  None          None   \n",
       "18  timestamp          NO                                  None          None   \n",
       "19      jsonb         YES                                  None          None   \n",
       "20       uuid          NO                         molecule_pkey          None   \n",
       "21       uuid         YES        molecule_molecule_type_id_fkey          None   \n",
       "22       text          NO                   molecule_smiles_key          None   \n",
       "23  timestamp          NO                                  None          None   \n",
       "24  timestamp          NO                                  None          None   \n",
       "25      jsonb         YES                                  None          None   \n",
       "26       uuid          NO                    molecule_type_pkey          None   \n",
       "27       text          NO                molecule_type_name_key          None   \n",
       "28  timestamp          NO                                  None          None   \n",
       "29       uuid          NO    numerical_data_calculation_id_fkey          None   \n",
       "30  timestamp          NO                                  None          None   \n",
       "31    _float8         YES                                  None          None   \n",
       "32      jsonb         YES                                  None          None   \n",
       "33       uuid          NO                   numerical_data_pkey          None   \n",
       "34  timestamp          NO                                  None          None   \n",
       "35  timestamp          NO                                  None          None   \n",
       "36       text          NO          software_name_version_unique          None   \n",
       "37       text          NO          software_name_version_unique          None   \n",
       "38       uuid          NO                         software_pkey          None   \n",
       "39  timestamp          NO                                  None          None   \n",
       "40       text          NO          software_name_version_unique          None   \n",
       "41       text          NO          software_name_version_unique          None   \n",
       "\n",
       "                          references  \n",
       "0         calculation.calculation_id  \n",
       "1                               None  \n",
       "2             conformer.conformer_id  \n",
       "3                               None  \n",
       "4                               None  \n",
       "5                               None  \n",
       "6             conformer.conformer_id  \n",
       "7               software.software_id  \n",
       "8                               None  \n",
       "9                               None  \n",
       "10            conformer.conformer_id  \n",
       "11                              None  \n",
       "12                              None  \n",
       "13              molecule.molecule_id  \n",
       "14                              None  \n",
       "15                              None  \n",
       "16                              None  \n",
       "17                              None  \n",
       "18                              None  \n",
       "19                              None  \n",
       "20              molecule.molecule_id  \n",
       "21    molecule_type.molecule_type_id  \n",
       "22                   molecule.smiles  \n",
       "23                              None  \n",
       "24                              None  \n",
       "25                              None  \n",
       "26    molecule_type.molecule_type_id  \n",
       "27                molecule_type.name  \n",
       "28                              None  \n",
       "29        calculation.calculation_id  \n",
       "30                              None  \n",
       "31                              None  \n",
       "32                              None  \n",
       "33  numerical_data.numerical_data_id  \n",
       "34                              None  \n",
       "35                              None  \n",
       "36                     software.name  \n",
       "37                  software.version  \n",
       "38              software.software_id  \n",
       "39                              None  \n",
       "40                     software.name  \n",
       "41                  software.version  "
      ]
     },
     "execution_count": 11,
     "metadata": {},
     "output_type": "execute_result"
    }
   ],
   "source": [
    "db_info = user_client.get_database_information()\n",
    "db_info"
   ]
  },
  {
   "cell_type": "markdown",
   "id": "3280a967",
   "metadata": {},
   "source": [
    "The information obtained contains all the details of the database structure. In this example, we can see the structure contains 6 tables:\n",
    " - `molecule`, \n",
    " - `molecule_type`, \n",
    " - `conformer`, \n",
    " - `calculation`,\n",
    " - `software`,\n",
    " - `numerical_data`\n",
    " "
   ]
  },
  {
   "cell_type": "markdown",
   "id": "5aec6586",
   "metadata": {},
   "source": [
    "### Adding data\n",
    "\n",
    "Now, let say we want to add a `molecule_type`. First, let's have a look at the table structure:"
   ]
  },
  {
   "cell_type": "code",
   "execution_count": 12,
   "id": "bad320dd",
   "metadata": {},
   "outputs": [
    {
     "data": {
      "text/html": [
       "<div>\n",
       "<style scoped>\n",
       "    .dataframe tbody tr th:only-of-type {\n",
       "        vertical-align: middle;\n",
       "    }\n",
       "\n",
       "    .dataframe tbody tr th {\n",
       "        vertical-align: top;\n",
       "    }\n",
       "\n",
       "    .dataframe thead th {\n",
       "        text-align: right;\n",
       "    }\n",
       "</style>\n",
       "<table border=\"1\" class=\"dataframe\">\n",
       "  <thead>\n",
       "    <tr style=\"text-align: right;\">\n",
       "      <th></th>\n",
       "      <th>table_name</th>\n",
       "      <th>column_name</th>\n",
       "      <th>type</th>\n",
       "      <th>subtype</th>\n",
       "      <th>is_nullable</th>\n",
       "      <th>constraint_name</th>\n",
       "      <th>containt_type</th>\n",
       "      <th>references</th>\n",
       "    </tr>\n",
       "  </thead>\n",
       "  <tbody>\n",
       "    <tr>\n",
       "      <th>24</th>\n",
       "      <td>molecule_type</td>\n",
       "      <td>created_on</td>\n",
       "      <td>timestamp without time zone</td>\n",
       "      <td>timestamp</td>\n",
       "      <td>NO</td>\n",
       "      <td>None</td>\n",
       "      <td>None</td>\n",
       "      <td>None</td>\n",
       "    </tr>\n",
       "    <tr>\n",
       "      <th>25</th>\n",
       "      <td>molecule_type</td>\n",
       "      <td>metadata</td>\n",
       "      <td>jsonb</td>\n",
       "      <td>jsonb</td>\n",
       "      <td>YES</td>\n",
       "      <td>None</td>\n",
       "      <td>None</td>\n",
       "      <td>None</td>\n",
       "    </tr>\n",
       "    <tr>\n",
       "      <th>26</th>\n",
       "      <td>molecule_type</td>\n",
       "      <td>molecule_type_id</td>\n",
       "      <td>uuid</td>\n",
       "      <td>uuid</td>\n",
       "      <td>NO</td>\n",
       "      <td>molecule_type_pkey</td>\n",
       "      <td>None</td>\n",
       "      <td>molecule_type.molecule_type_id</td>\n",
       "    </tr>\n",
       "    <tr>\n",
       "      <th>27</th>\n",
       "      <td>molecule_type</td>\n",
       "      <td>name</td>\n",
       "      <td>text</td>\n",
       "      <td>text</td>\n",
       "      <td>NO</td>\n",
       "      <td>molecule_type_name_key</td>\n",
       "      <td>None</td>\n",
       "      <td>molecule_type.name</td>\n",
       "    </tr>\n",
       "    <tr>\n",
       "      <th>28</th>\n",
       "      <td>molecule_type</td>\n",
       "      <td>updated_on</td>\n",
       "      <td>timestamp without time zone</td>\n",
       "      <td>timestamp</td>\n",
       "      <td>NO</td>\n",
       "      <td>None</td>\n",
       "      <td>None</td>\n",
       "      <td>None</td>\n",
       "    </tr>\n",
       "  </tbody>\n",
       "</table>\n",
       "</div>"
      ],
      "text/plain": [
       "       table_name       column_name                         type    subtype  \\\n",
       "24  molecule_type        created_on  timestamp without time zone  timestamp   \n",
       "25  molecule_type          metadata                        jsonb      jsonb   \n",
       "26  molecule_type  molecule_type_id                         uuid       uuid   \n",
       "27  molecule_type              name                         text       text   \n",
       "28  molecule_type        updated_on  timestamp without time zone  timestamp   \n",
       "\n",
       "   is_nullable         constraint_name containt_type  \\\n",
       "24          NO                    None          None   \n",
       "25         YES                    None          None   \n",
       "26          NO      molecule_type_pkey          None   \n",
       "27          NO  molecule_type_name_key          None   \n",
       "28          NO                    None          None   \n",
       "\n",
       "                        references  \n",
       "24                            None  \n",
       "25                            None  \n",
       "26  molecule_type.molecule_type_id  \n",
       "27              molecule_type.name  \n",
       "28                            None  "
      ]
     },
     "execution_count": 12,
     "metadata": {},
     "output_type": "execute_result"
    }
   ],
   "source": [
    "db_info[db_info.table_name == \"molecule_type\"]"
   ]
  },
  {
   "cell_type": "markdown",
   "id": "00096166",
   "metadata": {},
   "source": [
    "The columns `created_on`, `updated_on` and `molecule_type_id` are here for bookkeeping and are filled automatically by the database. The remaining fields are `name` and `metadata`. We can see `name` is of type `text` and metadata `jsonb`. This means name can be any python string, and metadata any python object that can be serialized to json. We recomment being cautious with the use of `jsonb` field as it can be harder to query.\n",
    "\n",
    "You can manipulate teh data user `Client.create_entry`, `Client.delete_entry` and `Client.update_entry`. Here is an example:"
   ]
  },
  {
   "cell_type": "code",
   "execution_count": 13,
   "id": "1ae74690",
   "metadata": {},
   "outputs": [
    {
     "data": {
      "text/plain": [
       "{'type': 'molecule_type',\n",
       " 'id': 1,\n",
       " 'uuid': 'f82607ba-3092-4d54-87f9-95f95e29f556',\n",
       " 'event': 'create',\n",
       " 'data': {'name': 'brain catalyst'},\n",
       " 'timestamp': '2021-06-14T11:03:26.749381',\n",
       " 'alembic_version': ['0bc99b5f8fcc'],\n",
       " 'user_id': 1}"
      ]
     },
     "execution_count": 13,
     "metadata": {},
     "output_type": "execute_result"
    }
   ],
   "source": [
    "event = user_client.create_entry(type=\"molecule_type\", data={\"name\": \"brain catalyst\"})\n",
    "event"
   ]
  },
  {
   "cell_type": "markdown",
   "id": "d7c59149",
   "metadata": {},
   "source": [
    "The `db_info` also tells us there is a contraint on the column `name`. Indeed, the `name` has to be unique and you won't be able to add the same data again:"
   ]
  },
  {
   "cell_type": "code",
   "execution_count": 14,
   "id": "b3562ada",
   "metadata": {},
   "outputs": [
    {
     "ename": "MolarBackendError",
     "evalue": "The client got an unexpected answer from the backend:\n401: Unique constraint violation!",
     "output_type": "error",
     "traceback": [
      "\u001b[0;31m---------------------------------------------------------------------------\u001b[0m",
      "\u001b[0;31mMolarBackendError\u001b[0m                         Traceback (most recent call last)",
      "\u001b[0;32m<ipython-input-14-f522a4c5189d>\u001b[0m in \u001b[0;36m<module>\u001b[0;34m\u001b[0m\n\u001b[0;32m----> 1\u001b[0;31m \u001b[0muser_client\u001b[0m\u001b[0;34m.\u001b[0m\u001b[0mcreate_entry\u001b[0m\u001b[0;34m(\u001b[0m\u001b[0mtype\u001b[0m\u001b[0;34m=\u001b[0m\u001b[0;34m\"molecule_type\"\u001b[0m\u001b[0;34m,\u001b[0m \u001b[0mdata\u001b[0m\u001b[0;34m=\u001b[0m\u001b[0;34m{\u001b[0m\u001b[0;34m\"name\"\u001b[0m\u001b[0;34m:\u001b[0m \u001b[0;34m\"brain catalyst\"\u001b[0m\u001b[0;34m}\u001b[0m\u001b[0;34m)\u001b[0m\u001b[0;34m\u001b[0m\u001b[0;34m\u001b[0m\u001b[0m\n\u001b[0m",
      "\u001b[0;32m~/AGG/code/goldmine/molar/client.py\u001b[0m in \u001b[0;36mcreate_entry\u001b[0;34m(self, type, data)\u001b[0m\n\u001b[1;32m    240\u001b[0m             \u001b[0mjson\u001b[0m\u001b[0;34m=\u001b[0m\u001b[0mdatum\u001b[0m\u001b[0;34m,\u001b[0m\u001b[0;34m\u001b[0m\u001b[0;34m\u001b[0m\u001b[0m\n\u001b[1;32m    241\u001b[0m             \u001b[0mheaders\u001b[0m\u001b[0;34m=\u001b[0m\u001b[0mself\u001b[0m\u001b[0;34m.\u001b[0m\u001b[0mheaders\u001b[0m\u001b[0;34m,\u001b[0m\u001b[0;34m\u001b[0m\u001b[0;34m\u001b[0m\u001b[0m\n\u001b[0;32m--> 242\u001b[0;31m             \u001b[0mreturn_pandas_dataframe\u001b[0m\u001b[0;34m=\u001b[0m\u001b[0;32mFalse\u001b[0m\u001b[0;34m,\u001b[0m\u001b[0;34m\u001b[0m\u001b[0;34m\u001b[0m\u001b[0m\n\u001b[0m\u001b[1;32m    243\u001b[0m         )\n\u001b[1;32m    244\u001b[0m \u001b[0;34m\u001b[0m\u001b[0m\n",
      "\u001b[0;32m~/AGG/code/goldmine/molar/client.py\u001b[0m in \u001b[0;36mrequest\u001b[0;34m(self, url, method, params, json, data, headers, return_pandas_dataframe)\u001b[0m\n\u001b[1;32m     98\u001b[0m         \u001b[0;32mif\u001b[0m \u001b[0mresponse\u001b[0m\u001b[0;34m.\u001b[0m\u001b[0mstatus_code\u001b[0m \u001b[0;34m!=\u001b[0m \u001b[0;36m200\u001b[0m\u001b[0;34m:\u001b[0m\u001b[0;34m\u001b[0m\u001b[0;34m\u001b[0m\u001b[0m\n\u001b[1;32m     99\u001b[0m             raise MolarBackendError(\n\u001b[0;32m--> 100\u001b[0;31m                 \u001b[0mstatus_code\u001b[0m\u001b[0;34m=\u001b[0m\u001b[0mresponse\u001b[0m\u001b[0;34m.\u001b[0m\u001b[0mstatus_code\u001b[0m\u001b[0;34m,\u001b[0m \u001b[0mmessage\u001b[0m\u001b[0;34m=\u001b[0m\u001b[0mout\u001b[0m\u001b[0;34m[\u001b[0m\u001b[0;34m\"detail\"\u001b[0m\u001b[0;34m]\u001b[0m\u001b[0;34m\u001b[0m\u001b[0;34m\u001b[0m\u001b[0m\n\u001b[0m\u001b[1;32m    101\u001b[0m             )\n\u001b[1;32m    102\u001b[0m \u001b[0;34m\u001b[0m\u001b[0m\n",
      "\u001b[0;31mMolarBackendError\u001b[0m: The client got an unexpected answer from the backend:\n401: Unique constraint violation!"
     ]
    }
   ],
   "source": [
    "user_client.create_entry(type=\"molecule_type\", data={\"name\": \"brain catalyst\"})"
   ]
  },
  {
   "cell_type": "markdown",
   "id": "d0f2242e",
   "metadata": {},
   "source": [
    "Now let's have a look at the `molecule` table."
   ]
  },
  {
   "cell_type": "code",
   "execution_count": 15,
   "id": "e1f81a77",
   "metadata": {},
   "outputs": [
    {
     "data": {
      "text/html": [
       "<div>\n",
       "<style scoped>\n",
       "    .dataframe tbody tr th:only-of-type {\n",
       "        vertical-align: middle;\n",
       "    }\n",
       "\n",
       "    .dataframe tbody tr th {\n",
       "        vertical-align: top;\n",
       "    }\n",
       "\n",
       "    .dataframe thead th {\n",
       "        text-align: right;\n",
       "    }\n",
       "</style>\n",
       "<table border=\"1\" class=\"dataframe\">\n",
       "  <thead>\n",
       "    <tr style=\"text-align: right;\">\n",
       "      <th></th>\n",
       "      <th>table_name</th>\n",
       "      <th>column_name</th>\n",
       "      <th>type</th>\n",
       "      <th>subtype</th>\n",
       "      <th>is_nullable</th>\n",
       "      <th>constraint_name</th>\n",
       "      <th>containt_type</th>\n",
       "      <th>references</th>\n",
       "    </tr>\n",
       "  </thead>\n",
       "  <tbody>\n",
       "    <tr>\n",
       "      <th>18</th>\n",
       "      <td>molecule</td>\n",
       "      <td>created_on</td>\n",
       "      <td>timestamp without time zone</td>\n",
       "      <td>timestamp</td>\n",
       "      <td>NO</td>\n",
       "      <td>None</td>\n",
       "      <td>None</td>\n",
       "      <td>None</td>\n",
       "    </tr>\n",
       "    <tr>\n",
       "      <th>19</th>\n",
       "      <td>molecule</td>\n",
       "      <td>metadata</td>\n",
       "      <td>jsonb</td>\n",
       "      <td>jsonb</td>\n",
       "      <td>YES</td>\n",
       "      <td>None</td>\n",
       "      <td>None</td>\n",
       "      <td>None</td>\n",
       "    </tr>\n",
       "    <tr>\n",
       "      <th>20</th>\n",
       "      <td>molecule</td>\n",
       "      <td>molecule_id</td>\n",
       "      <td>uuid</td>\n",
       "      <td>uuid</td>\n",
       "      <td>NO</td>\n",
       "      <td>molecule_pkey</td>\n",
       "      <td>None</td>\n",
       "      <td>molecule.molecule_id</td>\n",
       "    </tr>\n",
       "    <tr>\n",
       "      <th>21</th>\n",
       "      <td>molecule</td>\n",
       "      <td>molecule_type_id</td>\n",
       "      <td>uuid</td>\n",
       "      <td>uuid</td>\n",
       "      <td>YES</td>\n",
       "      <td>molecule_molecule_type_id_fkey</td>\n",
       "      <td>None</td>\n",
       "      <td>molecule_type.molecule_type_id</td>\n",
       "    </tr>\n",
       "    <tr>\n",
       "      <th>22</th>\n",
       "      <td>molecule</td>\n",
       "      <td>smiles</td>\n",
       "      <td>text</td>\n",
       "      <td>text</td>\n",
       "      <td>NO</td>\n",
       "      <td>molecule_smiles_key</td>\n",
       "      <td>None</td>\n",
       "      <td>molecule.smiles</td>\n",
       "    </tr>\n",
       "    <tr>\n",
       "      <th>23</th>\n",
       "      <td>molecule</td>\n",
       "      <td>updated_on</td>\n",
       "      <td>timestamp without time zone</td>\n",
       "      <td>timestamp</td>\n",
       "      <td>NO</td>\n",
       "      <td>None</td>\n",
       "      <td>None</td>\n",
       "      <td>None</td>\n",
       "    </tr>\n",
       "  </tbody>\n",
       "</table>\n",
       "</div>"
      ],
      "text/plain": [
       "   table_name       column_name                         type    subtype  \\\n",
       "18   molecule        created_on  timestamp without time zone  timestamp   \n",
       "19   molecule          metadata                        jsonb      jsonb   \n",
       "20   molecule       molecule_id                         uuid       uuid   \n",
       "21   molecule  molecule_type_id                         uuid       uuid   \n",
       "22   molecule            smiles                         text       text   \n",
       "23   molecule        updated_on  timestamp without time zone  timestamp   \n",
       "\n",
       "   is_nullable                 constraint_name containt_type  \\\n",
       "18          NO                            None          None   \n",
       "19         YES                            None          None   \n",
       "20          NO                   molecule_pkey          None   \n",
       "21         YES  molecule_molecule_type_id_fkey          None   \n",
       "22          NO             molecule_smiles_key          None   \n",
       "23          NO                            None          None   \n",
       "\n",
       "                        references  \n",
       "18                            None  \n",
       "19                            None  \n",
       "20            molecule.molecule_id  \n",
       "21  molecule_type.molecule_type_id  \n",
       "22                 molecule.smiles  \n",
       "23                            None  "
      ]
     },
     "execution_count": 15,
     "metadata": {},
     "output_type": "execute_result"
    }
   ],
   "source": [
    "db_info[db_info.table_name == \"molecule\"]"
   ]
  },
  {
   "cell_type": "markdown",
   "id": "dc7d24b0",
   "metadata": {},
   "source": [
    "The `molecule` table can take optionally (see `is_nullable`) a `molecule_type_id`, which means it can refer to an entry in the `molecule_type` table."
   ]
  },
  {
   "cell_type": "code",
   "execution_count": 16,
   "id": "8ead8c95",
   "metadata": {},
   "outputs": [
    {
     "data": {
      "text/plain": [
       "{'type': 'molecule',\n",
       " 'id': 3,\n",
       " 'uuid': 'e022838c-7d0a-47f1-a4fd-1c88834aa295',\n",
       " 'event': 'create',\n",
       " 'data': {'smiles': 'CN1C=NC2=C1C(=O)N(C(=O)N2C)C',\n",
       "  'metadata': {'name': 'cafefine'},\n",
       "  'molecule_type_id': 'f82607ba-3092-4d54-87f9-95f95e29f556'},\n",
       " 'timestamp': '2021-06-14T11:03:32.254394',\n",
       " 'alembic_version': ['0bc99b5f8fcc'],\n",
       " 'user_id': 1}"
      ]
     },
     "execution_count": 16,
     "metadata": {},
     "output_type": "execute_result"
    }
   ],
   "source": [
    "event = user_client.create_entry(\n",
    "    type=\"molecule\", \n",
    "    data={\n",
    "        \"smiles\": \"CN1C=NC2=C1C(=O)N(C(=O)N2C)C\",\n",
    "        \"molecule_type_id\": event['uuid'],\n",
    "        \"metadata\": {\"name\": \"cafefine\"}\n",
    "    }\n",
    ")\n",
    "event"
   ]
  },
  {
   "cell_type": "markdown",
   "id": "a5fcad79",
   "metadata": {},
   "source": [
    "Similarly, one can update a field using its `uuid`:"
   ]
  },
  {
   "cell_type": "code",
   "execution_count": 17,
   "id": "0101e36c",
   "metadata": {},
   "outputs": [
    {
     "data": {
      "text/plain": [
       "{'type': 'molecule',\n",
       " 'id': 4,\n",
       " 'uuid': 'e022838c-7d0a-47f1-a4fd-1c88834aa295',\n",
       " 'event': 'update',\n",
       " 'data': {'metadata': {'name': 'caffeine'}},\n",
       " 'timestamp': '2021-06-14T11:03:32.549240',\n",
       " 'alembic_version': ['0bc99b5f8fcc'],\n",
       " 'user_id': 1}"
      ]
     },
     "execution_count": 17,
     "metadata": {},
     "output_type": "execute_result"
    }
   ],
   "source": [
    "event = user_client.update_entry(\n",
    "    uuid=event['uuid'],\n",
    "    type='molecule',\n",
    "    data={\"metadata\": {\"name\": \"caffeine\"}}\n",
    ")\n",
    "event"
   ]
  },
  {
   "cell_type": "code",
   "execution_count": 18,
   "id": "bc4db586",
   "metadata": {},
   "outputs": [],
   "source": [
    "event = user_client.delete_entry(\n",
    "    type=\"molecule\",\n",
    "    uuid=event[\"uuid\"]\n",
    ")"
   ]
  },
  {
   "cell_type": "markdown",
   "id": "a7e68522",
   "metadata": {},
   "source": [
    "### Event sourcing\n",
    "\n",
    "Rather than writing directly to the tables, Molar saves all the events into another table, called `eventstore`. The data is then projected to their respective table. This method is called **event sourcing** (as opposed to **active records**). The eventstore can be access through the client:"
   ]
  },
  {
   "cell_type": "code",
   "execution_count": 19,
   "id": "b591a424",
   "metadata": {},
   "outputs": [
    {
     "data": {
      "text/html": [
       "<div>\n",
       "<style scoped>\n",
       "    .dataframe tbody tr th:only-of-type {\n",
       "        vertical-align: middle;\n",
       "    }\n",
       "\n",
       "    .dataframe tbody tr th {\n",
       "        vertical-align: top;\n",
       "    }\n",
       "\n",
       "    .dataframe thead th {\n",
       "        text-align: right;\n",
       "    }\n",
       "</style>\n",
       "<table border=\"1\" class=\"dataframe\">\n",
       "  <thead>\n",
       "    <tr style=\"text-align: right;\">\n",
       "      <th></th>\n",
       "      <th>type</th>\n",
       "      <th>id</th>\n",
       "      <th>uuid</th>\n",
       "      <th>event</th>\n",
       "      <th>data</th>\n",
       "      <th>timestamp</th>\n",
       "      <th>alembic_version</th>\n",
       "      <th>user_id</th>\n",
       "    </tr>\n",
       "  </thead>\n",
       "  <tbody>\n",
       "    <tr>\n",
       "      <th>0</th>\n",
       "      <td>molecule_type</td>\n",
       "      <td>1</td>\n",
       "      <td>f82607ba-3092-4d54-87f9-95f95e29f556</td>\n",
       "      <td>create</td>\n",
       "      <td>{'name': 'brain catalyst'}</td>\n",
       "      <td>2021-06-14T11:03:26.749381</td>\n",
       "      <td>[0bc99b5f8fcc]</td>\n",
       "      <td>1</td>\n",
       "    </tr>\n",
       "    <tr>\n",
       "      <th>1</th>\n",
       "      <td>molecule</td>\n",
       "      <td>3</td>\n",
       "      <td>e022838c-7d0a-47f1-a4fd-1c88834aa295</td>\n",
       "      <td>create</td>\n",
       "      <td>{'smiles': 'CN1C=NC2=C1C(=O)N(C(=O)N2C)C', 'me...</td>\n",
       "      <td>2021-06-14T11:03:32.254394</td>\n",
       "      <td>[0bc99b5f8fcc]</td>\n",
       "      <td>1</td>\n",
       "    </tr>\n",
       "    <tr>\n",
       "      <th>2</th>\n",
       "      <td>molecule</td>\n",
       "      <td>4</td>\n",
       "      <td>e022838c-7d0a-47f1-a4fd-1c88834aa295</td>\n",
       "      <td>update</td>\n",
       "      <td>{'metadata': {'name': 'caffeine'}}</td>\n",
       "      <td>2021-06-14T11:03:32.549240</td>\n",
       "      <td>[0bc99b5f8fcc]</td>\n",
       "      <td>1</td>\n",
       "    </tr>\n",
       "    <tr>\n",
       "      <th>3</th>\n",
       "      <td>molecule</td>\n",
       "      <td>5</td>\n",
       "      <td>e022838c-7d0a-47f1-a4fd-1c88834aa295</td>\n",
       "      <td>delete</td>\n",
       "      <td>{}</td>\n",
       "      <td>2021-06-14T11:03:32.837930</td>\n",
       "      <td>[0bc99b5f8fcc]</td>\n",
       "      <td>1</td>\n",
       "    </tr>\n",
       "  </tbody>\n",
       "</table>\n",
       "</div>"
      ],
      "text/plain": [
       "            type  id                                  uuid   event  \\\n",
       "0  molecule_type   1  f82607ba-3092-4d54-87f9-95f95e29f556  create   \n",
       "1       molecule   3  e022838c-7d0a-47f1-a4fd-1c88834aa295  create   \n",
       "2       molecule   4  e022838c-7d0a-47f1-a4fd-1c88834aa295  update   \n",
       "3       molecule   5  e022838c-7d0a-47f1-a4fd-1c88834aa295  delete   \n",
       "\n",
       "                                                data  \\\n",
       "0                         {'name': 'brain catalyst'}   \n",
       "1  {'smiles': 'CN1C=NC2=C1C(=O)N(C(=O)N2C)C', 'me...   \n",
       "2                 {'metadata': {'name': 'caffeine'}}   \n",
       "3                                                 {}   \n",
       "\n",
       "                    timestamp alembic_version  user_id  \n",
       "0  2021-06-14T11:03:26.749381  [0bc99b5f8fcc]        1  \n",
       "1  2021-06-14T11:03:32.254394  [0bc99b5f8fcc]        1  \n",
       "2  2021-06-14T11:03:32.549240  [0bc99b5f8fcc]        1  \n",
       "3  2021-06-14T11:03:32.837930  [0bc99b5f8fcc]        1  "
      ]
     },
     "execution_count": 19,
     "metadata": {},
     "output_type": "execute_result"
    }
   ],
   "source": [
    "es = user_client.view_entries()\n",
    "es"
   ]
  },
  {
   "cell_type": "markdown",
   "id": "87e971d6",
   "metadata": {},
   "source": [
    "Event sourcing becomes interesting when something goes wrong. Maybe the last entry, deleting the molecule with uuid `280ff363-78bf-4c58-b1b1-6ab152954ef6` was a mistake. In this case, we can undo the last events (or rather, empty the database and replay all the event until the last one):"
   ]
  },
  {
   "cell_type": "code",
   "execution_count": 20,
   "id": "e9cc017d",
   "metadata": {},
   "outputs": [
    {
     "data": {
      "text/plain": [
       "{'type': None,\n",
       " 'id': 6,\n",
       " 'uuid': None,\n",
       " 'event': 'rollback-begin',\n",
       " 'data': {'before': '2021-06-14 11:03:32.837930'},\n",
       " 'timestamp': '2021-06-14T11:03:34.113734',\n",
       " 'alembic_version': ['0bc99b5f8fcc'],\n",
       " 'user_id': 1}"
      ]
     },
     "execution_count": 20,
     "metadata": {},
     "output_type": "execute_result"
    }
   ],
   "source": [
    "user_client.rollback(before=es.at[3, 'timestamp'])"
   ]
  },
  {
   "cell_type": "markdown",
   "id": "d5eaea26",
   "metadata": {},
   "source": [
    "Here is the eventstore after the rollback. We can see the list of event that have been replayed."
   ]
  },
  {
   "cell_type": "code",
   "execution_count": 21,
   "id": "29990761",
   "metadata": {},
   "outputs": [
    {
     "data": {
      "text/html": [
       "<div>\n",
       "<style scoped>\n",
       "    .dataframe tbody tr th:only-of-type {\n",
       "        vertical-align: middle;\n",
       "    }\n",
       "\n",
       "    .dataframe tbody tr th {\n",
       "        vertical-align: top;\n",
       "    }\n",
       "\n",
       "    .dataframe thead th {\n",
       "        text-align: right;\n",
       "    }\n",
       "</style>\n",
       "<table border=\"1\" class=\"dataframe\">\n",
       "  <thead>\n",
       "    <tr style=\"text-align: right;\">\n",
       "      <th></th>\n",
       "      <th>type</th>\n",
       "      <th>id</th>\n",
       "      <th>uuid</th>\n",
       "      <th>event</th>\n",
       "      <th>data</th>\n",
       "      <th>timestamp</th>\n",
       "      <th>alembic_version</th>\n",
       "      <th>user_id</th>\n",
       "    </tr>\n",
       "  </thead>\n",
       "  <tbody>\n",
       "    <tr>\n",
       "      <th>0</th>\n",
       "      <td>molecule_type</td>\n",
       "      <td>1</td>\n",
       "      <td>f82607ba-3092-4d54-87f9-95f95e29f556</td>\n",
       "      <td>create</td>\n",
       "      <td>{'name': 'brain catalyst'}</td>\n",
       "      <td>2021-06-14T11:03:26.749381</td>\n",
       "      <td>[0bc99b5f8fcc]</td>\n",
       "      <td>1</td>\n",
       "    </tr>\n",
       "    <tr>\n",
       "      <th>1</th>\n",
       "      <td>molecule</td>\n",
       "      <td>3</td>\n",
       "      <td>e022838c-7d0a-47f1-a4fd-1c88834aa295</td>\n",
       "      <td>create</td>\n",
       "      <td>{'smiles': 'CN1C=NC2=C1C(=O)N(C(=O)N2C)C', 'me...</td>\n",
       "      <td>2021-06-14T11:03:32.254394</td>\n",
       "      <td>[0bc99b5f8fcc]</td>\n",
       "      <td>1</td>\n",
       "    </tr>\n",
       "    <tr>\n",
       "      <th>2</th>\n",
       "      <td>molecule</td>\n",
       "      <td>4</td>\n",
       "      <td>e022838c-7d0a-47f1-a4fd-1c88834aa295</td>\n",
       "      <td>update</td>\n",
       "      <td>{'metadata': {'name': 'caffeine'}}</td>\n",
       "      <td>2021-06-14T11:03:32.549240</td>\n",
       "      <td>[0bc99b5f8fcc]</td>\n",
       "      <td>1</td>\n",
       "    </tr>\n",
       "    <tr>\n",
       "      <th>3</th>\n",
       "      <td>molecule</td>\n",
       "      <td>5</td>\n",
       "      <td>e022838c-7d0a-47f1-a4fd-1c88834aa295</td>\n",
       "      <td>delete</td>\n",
       "      <td>{}</td>\n",
       "      <td>2021-06-14T11:03:32.837930</td>\n",
       "      <td>[0bc99b5f8fcc]</td>\n",
       "      <td>1</td>\n",
       "    </tr>\n",
       "    <tr>\n",
       "      <th>9</th>\n",
       "      <td>None</td>\n",
       "      <td>6</td>\n",
       "      <td>None</td>\n",
       "      <td>rollback-begin</td>\n",
       "      <td>{'before': '2021-06-14 11:03:32.837930'}</td>\n",
       "      <td>2021-06-14T11:03:34.113734</td>\n",
       "      <td>[0bc99b5f8fcc]</td>\n",
       "      <td>1</td>\n",
       "    </tr>\n",
       "    <tr>\n",
       "      <th>4</th>\n",
       "      <td>molecule_type</td>\n",
       "      <td>7</td>\n",
       "      <td>f82607ba-3092-4d54-87f9-95f95e29f556</td>\n",
       "      <td>delete</td>\n",
       "      <td>{}</td>\n",
       "      <td>2021-06-14T11:03:34.113734</td>\n",
       "      <td>[0bc99b5f8fcc]</td>\n",
       "      <td>1</td>\n",
       "    </tr>\n",
       "    <tr>\n",
       "      <th>5</th>\n",
       "      <td>molecule_type</td>\n",
       "      <td>8</td>\n",
       "      <td>f82607ba-3092-4d54-87f9-95f95e29f556</td>\n",
       "      <td>create</td>\n",
       "      <td>{'name': 'brain catalyst'}</td>\n",
       "      <td>2021-06-14T11:03:34.113734</td>\n",
       "      <td>[0bc99b5f8fcc]</td>\n",
       "      <td>1</td>\n",
       "    </tr>\n",
       "    <tr>\n",
       "      <th>6</th>\n",
       "      <td>molecule</td>\n",
       "      <td>9</td>\n",
       "      <td>e022838c-7d0a-47f1-a4fd-1c88834aa295</td>\n",
       "      <td>create</td>\n",
       "      <td>{'smiles': 'CN1C=NC2=C1C(=O)N(C(=O)N2C)C', 'me...</td>\n",
       "      <td>2021-06-14T11:03:34.113734</td>\n",
       "      <td>[0bc99b5f8fcc]</td>\n",
       "      <td>1</td>\n",
       "    </tr>\n",
       "    <tr>\n",
       "      <th>7</th>\n",
       "      <td>molecule</td>\n",
       "      <td>10</td>\n",
       "      <td>e022838c-7d0a-47f1-a4fd-1c88834aa295</td>\n",
       "      <td>update</td>\n",
       "      <td>{'metadata': {'name': 'caffeine'}}</td>\n",
       "      <td>2021-06-14T11:03:34.113734</td>\n",
       "      <td>[0bc99b5f8fcc]</td>\n",
       "      <td>1</td>\n",
       "    </tr>\n",
       "    <tr>\n",
       "      <th>8</th>\n",
       "      <td>None</td>\n",
       "      <td>11</td>\n",
       "      <td>None</td>\n",
       "      <td>rollback-end</td>\n",
       "      <td>{'before': '2021-06-14 11:03:32.837930'}</td>\n",
       "      <td>2021-06-14T11:03:34.113734</td>\n",
       "      <td>[0bc99b5f8fcc]</td>\n",
       "      <td>1</td>\n",
       "    </tr>\n",
       "  </tbody>\n",
       "</table>\n",
       "</div>"
      ],
      "text/plain": [
       "            type  id                                  uuid           event  \\\n",
       "0  molecule_type   1  f82607ba-3092-4d54-87f9-95f95e29f556          create   \n",
       "1       molecule   3  e022838c-7d0a-47f1-a4fd-1c88834aa295          create   \n",
       "2       molecule   4  e022838c-7d0a-47f1-a4fd-1c88834aa295          update   \n",
       "3       molecule   5  e022838c-7d0a-47f1-a4fd-1c88834aa295          delete   \n",
       "9           None   6                                  None  rollback-begin   \n",
       "4  molecule_type   7  f82607ba-3092-4d54-87f9-95f95e29f556          delete   \n",
       "5  molecule_type   8  f82607ba-3092-4d54-87f9-95f95e29f556          create   \n",
       "6       molecule   9  e022838c-7d0a-47f1-a4fd-1c88834aa295          create   \n",
       "7       molecule  10  e022838c-7d0a-47f1-a4fd-1c88834aa295          update   \n",
       "8           None  11                                  None    rollback-end   \n",
       "\n",
       "                                                data  \\\n",
       "0                         {'name': 'brain catalyst'}   \n",
       "1  {'smiles': 'CN1C=NC2=C1C(=O)N(C(=O)N2C)C', 'me...   \n",
       "2                 {'metadata': {'name': 'caffeine'}}   \n",
       "3                                                 {}   \n",
       "9           {'before': '2021-06-14 11:03:32.837930'}   \n",
       "4                                                 {}   \n",
       "5                         {'name': 'brain catalyst'}   \n",
       "6  {'smiles': 'CN1C=NC2=C1C(=O)N(C(=O)N2C)C', 'me...   \n",
       "7                 {'metadata': {'name': 'caffeine'}}   \n",
       "8           {'before': '2021-06-14 11:03:32.837930'}   \n",
       "\n",
       "                    timestamp alembic_version  user_id  \n",
       "0  2021-06-14T11:03:26.749381  [0bc99b5f8fcc]        1  \n",
       "1  2021-06-14T11:03:32.254394  [0bc99b5f8fcc]        1  \n",
       "2  2021-06-14T11:03:32.549240  [0bc99b5f8fcc]        1  \n",
       "3  2021-06-14T11:03:32.837930  [0bc99b5f8fcc]        1  \n",
       "9  2021-06-14T11:03:34.113734  [0bc99b5f8fcc]        1  \n",
       "4  2021-06-14T11:03:34.113734  [0bc99b5f8fcc]        1  \n",
       "5  2021-06-14T11:03:34.113734  [0bc99b5f8fcc]        1  \n",
       "6  2021-06-14T11:03:34.113734  [0bc99b5f8fcc]        1  \n",
       "7  2021-06-14T11:03:34.113734  [0bc99b5f8fcc]        1  \n",
       "8  2021-06-14T11:03:34.113734  [0bc99b5f8fcc]        1  "
      ]
     },
     "execution_count": 21,
     "metadata": {},
     "output_type": "execute_result"
    }
   ],
   "source": [
    "user_client.view_entries().sort_values(by=['id'])"
   ]
  },
  {
   "cell_type": "markdown",
   "id": "50fc8239",
   "metadata": {},
   "source": [
    "In theory, an event sourcing makes it also possible to merge two databases with the same structure together. This has not been implemented yet."
   ]
  },
  {
   "cell_type": "markdown",
   "id": "f58bfe86",
   "metadata": {},
   "source": [
    "### Querying\n",
    "\n",
    "Querying the database is relatively straight forward if you are familar with SQL. The queries that can be formulated with Molar are only a subset of what it is possible to do with SQL, but this should be sufficient for most use case.\n",
    "\n",
    "`Client.query_database` is the only method that you need to use to make queries. It is relatively straight forward to use if you want to fetch data from a single table:"
   ]
  },
  {
   "cell_type": "code",
   "execution_count": 22,
   "id": "73a9ac49",
   "metadata": {},
   "outputs": [
    {
     "data": {
      "text/html": [
       "<div>\n",
       "<style scoped>\n",
       "    .dataframe tbody tr th:only-of-type {\n",
       "        vertical-align: middle;\n",
       "    }\n",
       "\n",
       "    .dataframe tbody tr th {\n",
       "        vertical-align: top;\n",
       "    }\n",
       "\n",
       "    .dataframe thead th {\n",
       "        text-align: right;\n",
       "    }\n",
       "</style>\n",
       "<table border=\"1\" class=\"dataframe\">\n",
       "  <thead>\n",
       "    <tr style=\"text-align: right;\">\n",
       "      <th></th>\n",
       "      <th>molecule_id</th>\n",
       "      <th>created_on</th>\n",
       "      <th>updated_on</th>\n",
       "      <th>metadata</th>\n",
       "      <th>smiles</th>\n",
       "      <th>molecule_type_id</th>\n",
       "    </tr>\n",
       "  </thead>\n",
       "  <tbody>\n",
       "    <tr>\n",
       "      <th>0</th>\n",
       "      <td>e022838c-7d0a-47f1-a4fd-1c88834aa295</td>\n",
       "      <td>2021-06-14T11:03:34.113734</td>\n",
       "      <td>2021-06-14T11:03:34.113734</td>\n",
       "      <td>{'name': 'caffeine'}</td>\n",
       "      <td>CN1C=NC2=C1C(=O)N(C(=O)N2C)C</td>\n",
       "      <td>f82607ba-3092-4d54-87f9-95f95e29f556</td>\n",
       "    </tr>\n",
       "  </tbody>\n",
       "</table>\n",
       "</div>"
      ],
      "text/plain": [
       "                            molecule_id                  created_on  \\\n",
       "0  e022838c-7d0a-47f1-a4fd-1c88834aa295  2021-06-14T11:03:34.113734   \n",
       "\n",
       "                   updated_on              metadata  \\\n",
       "0  2021-06-14T11:03:34.113734  {'name': 'caffeine'}   \n",
       "\n",
       "                         smiles                      molecule_type_id  \n",
       "0  CN1C=NC2=C1C(=O)N(C(=O)N2C)C  f82607ba-3092-4d54-87f9-95f95e29f556  "
      ]
     },
     "execution_count": 22,
     "metadata": {},
     "output_type": "execute_result"
    }
   ],
   "source": [
    "user_client.query_database(\n",
    "    types='molecule'\n",
    ")"
   ]
  },
  {
   "cell_type": "markdown",
   "id": "80bd6f22",
   "metadata": {},
   "source": [
    "and also:"
   ]
  },
  {
   "cell_type": "code",
   "execution_count": 23,
   "id": "2032e799",
   "metadata": {},
   "outputs": [
    {
     "data": {
      "text/html": [
       "<div>\n",
       "<style scoped>\n",
       "    .dataframe tbody tr th:only-of-type {\n",
       "        vertical-align: middle;\n",
       "    }\n",
       "\n",
       "    .dataframe tbody tr th {\n",
       "        vertical-align: top;\n",
       "    }\n",
       "\n",
       "    .dataframe thead th {\n",
       "        text-align: right;\n",
       "    }\n",
       "</style>\n",
       "<table border=\"1\" class=\"dataframe\">\n",
       "  <thead>\n",
       "    <tr style=\"text-align: right;\">\n",
       "      <th></th>\n",
       "      <th>molecule_type_id</th>\n",
       "      <th>created_on</th>\n",
       "      <th>updated_on</th>\n",
       "      <th>name</th>\n",
       "    </tr>\n",
       "  </thead>\n",
       "  <tbody>\n",
       "    <tr>\n",
       "      <th>0</th>\n",
       "      <td>f82607ba-3092-4d54-87f9-95f95e29f556</td>\n",
       "      <td>2021-06-14T11:03:34.113734</td>\n",
       "      <td>2021-06-14T11:03:34.113734</td>\n",
       "      <td>brain catalyst</td>\n",
       "    </tr>\n",
       "  </tbody>\n",
       "</table>\n",
       "</div>"
      ],
      "text/plain": [
       "                       molecule_type_id                  created_on  \\\n",
       "0  f82607ba-3092-4d54-87f9-95f95e29f556  2021-06-14T11:03:34.113734   \n",
       "\n",
       "                   updated_on            name  \n",
       "0  2021-06-14T11:03:34.113734  brain catalyst  "
      ]
     },
     "execution_count": 23,
     "metadata": {},
     "output_type": "execute_result"
    }
   ],
   "source": [
    "user_client.query_database(types=\"molecule_type\")"
   ]
  },
  {
   "cell_type": "markdown",
   "id": "2e616466",
   "metadata": {},
   "source": [
    "#### Joins\n",
    "\n",
    "It is also possible to perform joins. For instance we want to fetch all data from `molecule` and the `name` of the `molecule_type`. To do so, we can use the `joins` argument:"
   ]
  },
  {
   "cell_type": "code",
   "execution_count": 25,
   "id": "a14dca01",
   "metadata": {},
   "outputs": [
    {
     "data": {
      "text/html": [
       "<div>\n",
       "<style scoped>\n",
       "    .dataframe tbody tr th:only-of-type {\n",
       "        vertical-align: middle;\n",
       "    }\n",
       "\n",
       "    .dataframe tbody tr th {\n",
       "        vertical-align: top;\n",
       "    }\n",
       "\n",
       "    .dataframe thead th {\n",
       "        text-align: right;\n",
       "    }\n",
       "</style>\n",
       "<table border=\"1\" class=\"dataframe\">\n",
       "  <thead>\n",
       "    <tr style=\"text-align: right;\">\n",
       "      <th></th>\n",
       "      <th>molecule.molecule_id</th>\n",
       "      <th>molecule.created_on</th>\n",
       "      <th>molecule.updated_on</th>\n",
       "      <th>molecule.metadata</th>\n",
       "      <th>molecule.smiles</th>\n",
       "      <th>molecule.molecule_type_id</th>\n",
       "      <th>molecule_type.name</th>\n",
       "    </tr>\n",
       "  </thead>\n",
       "  <tbody>\n",
       "    <tr>\n",
       "      <th>0</th>\n",
       "      <td>e022838c-7d0a-47f1-a4fd-1c88834aa295</td>\n",
       "      <td>2021-06-14T11:03:34.113734</td>\n",
       "      <td>2021-06-14T11:03:34.113734</td>\n",
       "      <td>{'name': 'caffeine'}</td>\n",
       "      <td>CN1C=NC2=C1C(=O)N(C(=O)N2C)C</td>\n",
       "      <td>f82607ba-3092-4d54-87f9-95f95e29f556</td>\n",
       "      <td>brain catalyst</td>\n",
       "    </tr>\n",
       "  </tbody>\n",
       "</table>\n",
       "</div>"
      ],
      "text/plain": [
       "                   molecule.molecule_id         molecule.created_on  \\\n",
       "0  e022838c-7d0a-47f1-a4fd-1c88834aa295  2021-06-14T11:03:34.113734   \n",
       "\n",
       "          molecule.updated_on     molecule.metadata  \\\n",
       "0  2021-06-14T11:03:34.113734  {'name': 'caffeine'}   \n",
       "\n",
       "                molecule.smiles             molecule.molecule_type_id  \\\n",
       "0  CN1C=NC2=C1C(=O)N(C(=O)N2C)C  f82607ba-3092-4d54-87f9-95f95e29f556   \n",
       "\n",
       "  molecule_type.name  \n",
       "0     brain catalyst  "
      ]
     },
     "execution_count": 25,
     "metadata": {},
     "output_type": "execute_result"
    }
   ],
   "source": [
    "user_client.query_database(\n",
    "    types=['molecule', \"molecule_type.name\"],\n",
    "    joins={\n",
    "        'type': \"molecule_type\"\n",
    "    }\n",
    ")"
   ]
  },
  {
   "cell_type": "markdown",
   "id": "691debb3",
   "metadata": {},
   "source": [
    "#### Advanced joining\n",
    "\n",
    "Of course, it is often more complicated than that. One may want to join twice the same table on different key. This would be the case with the table `calculation` that can have a `conformer_id` and an `output_conformer_id`.\n",
    "\n",
    "Let's first add some data and see how we can join these table together:"
   ]
  },
  {
   "cell_type": "code",
   "execution_count": 26,
   "id": "bd8b8ebc",
   "metadata": {},
   "outputs": [],
   "source": [
    "conformer = user_client.create_entry(\n",
    "    type=\"conformer\",\n",
    "    data={\n",
    "        \"x\": [0], \n",
    "        \"y\": [0], \n",
    "        \"z\": [0], \n",
    "        \"atomic_numbers\": [2],\n",
    "        \"molecule_id\": event[\"uuid\"]\n",
    "    }\n",
    ")\n",
    "software = user_client.create_entry(\n",
    "    type=\"software\",\n",
    "    data={\n",
    "        \"name\": \"cp2k\",\n",
    "        \"version\": \"v1.0\"\n",
    "    }\n",
    ")\n",
    "calculation = user_client.create_entry(\n",
    "    type=\"calculation\",\n",
    "    data={\n",
    "        \"software_id\": software[\"uuid\"],\n",
    "        \"conformer_id\": conformer[\"uuid\"],\n",
    "        \"output_conformer_id\": conformer[\"uuid\"]\n",
    "    }\n",
    ")"
   ]
  },
  {
   "cell_type": "markdown",
   "id": "bb5ac9f2",
   "metadata": {},
   "source": [
    "If we want to query for both `initial_conformer` and the `output_conformer`, we need to use aliases:"
   ]
  },
  {
   "cell_type": "code",
   "execution_count": 27,
   "id": "ba599d45",
   "metadata": {},
   "outputs": [
    {
     "data": {
      "text/html": [
       "<div>\n",
       "<style scoped>\n",
       "    .dataframe tbody tr th:only-of-type {\n",
       "        vertical-align: middle;\n",
       "    }\n",
       "\n",
       "    .dataframe tbody tr th {\n",
       "        vertical-align: top;\n",
       "    }\n",
       "\n",
       "    .dataframe thead th {\n",
       "        text-align: right;\n",
       "    }\n",
       "</style>\n",
       "<table border=\"1\" class=\"dataframe\">\n",
       "  <thead>\n",
       "    <tr style=\"text-align: right;\">\n",
       "      <th></th>\n",
       "      <th>calculation.calculation_id</th>\n",
       "      <th>calculation.created_on</th>\n",
       "      <th>calculation.updated_on</th>\n",
       "      <th>calculation.conformer_id</th>\n",
       "      <th>calculation.software_id</th>\n",
       "      <th>calculation.output_conformer_id</th>\n",
       "      <th>initial_conformer.conformer_id</th>\n",
       "      <th>initial_conformer.molecule_id</th>\n",
       "      <th>initial_conformer.created_on</th>\n",
       "      <th>initial_conformer.updated_on</th>\n",
       "      <th>...</th>\n",
       "      <th>initial_conformer.z</th>\n",
       "      <th>initial_conformer.atomic_numbers</th>\n",
       "      <th>output_conformer.conformer_id</th>\n",
       "      <th>output_conformer.molecule_id</th>\n",
       "      <th>output_conformer.created_on</th>\n",
       "      <th>output_conformer.updated_on</th>\n",
       "      <th>output_conformer.x</th>\n",
       "      <th>output_conformer.y</th>\n",
       "      <th>output_conformer.z</th>\n",
       "      <th>output_conformer.atomic_numbers</th>\n",
       "    </tr>\n",
       "  </thead>\n",
       "  <tbody>\n",
       "    <tr>\n",
       "      <th>0</th>\n",
       "      <td>0db7a892-cecf-4de8-a950-ef6f668d2350</td>\n",
       "      <td>2021-06-14T11:03:46.164691</td>\n",
       "      <td>2021-06-14T11:03:46.164691</td>\n",
       "      <td>45c2ba38-7a66-4376-abf2-c1c534cee9cd</td>\n",
       "      <td>b294266a-f5d8-4f71-ab15-2f68432f3c4b</td>\n",
       "      <td>45c2ba38-7a66-4376-abf2-c1c534cee9cd</td>\n",
       "      <td>45c2ba38-7a66-4376-abf2-c1c534cee9cd</td>\n",
       "      <td>e022838c-7d0a-47f1-a4fd-1c88834aa295</td>\n",
       "      <td>2021-06-14T11:03:46.076427</td>\n",
       "      <td>2021-06-14T11:03:46.076427</td>\n",
       "      <td>...</td>\n",
       "      <td>[0.0]</td>\n",
       "      <td>[2]</td>\n",
       "      <td>45c2ba38-7a66-4376-abf2-c1c534cee9cd</td>\n",
       "      <td>e022838c-7d0a-47f1-a4fd-1c88834aa295</td>\n",
       "      <td>2021-06-14T11:03:46.076427</td>\n",
       "      <td>2021-06-14T11:03:46.076427</td>\n",
       "      <td>[0.0]</td>\n",
       "      <td>[0.0]</td>\n",
       "      <td>[0.0]</td>\n",
       "      <td>[2]</td>\n",
       "    </tr>\n",
       "  </tbody>\n",
       "</table>\n",
       "<p>1 rows × 22 columns</p>\n",
       "</div>"
      ],
      "text/plain": [
       "             calculation.calculation_id      calculation.created_on  \\\n",
       "0  0db7a892-cecf-4de8-a950-ef6f668d2350  2021-06-14T11:03:46.164691   \n",
       "\n",
       "       calculation.updated_on              calculation.conformer_id  \\\n",
       "0  2021-06-14T11:03:46.164691  45c2ba38-7a66-4376-abf2-c1c534cee9cd   \n",
       "\n",
       "                calculation.software_id       calculation.output_conformer_id  \\\n",
       "0  b294266a-f5d8-4f71-ab15-2f68432f3c4b  45c2ba38-7a66-4376-abf2-c1c534cee9cd   \n",
       "\n",
       "         initial_conformer.conformer_id         initial_conformer.molecule_id  \\\n",
       "0  45c2ba38-7a66-4376-abf2-c1c534cee9cd  e022838c-7d0a-47f1-a4fd-1c88834aa295   \n",
       "\n",
       "  initial_conformer.created_on initial_conformer.updated_on  ...  \\\n",
       "0   2021-06-14T11:03:46.076427   2021-06-14T11:03:46.076427  ...   \n",
       "\n",
       "  initial_conformer.z initial_conformer.atomic_numbers  \\\n",
       "0               [0.0]                              [2]   \n",
       "\n",
       "          output_conformer.conformer_id          output_conformer.molecule_id  \\\n",
       "0  45c2ba38-7a66-4376-abf2-c1c534cee9cd  e022838c-7d0a-47f1-a4fd-1c88834aa295   \n",
       "\n",
       "  output_conformer.created_on output_conformer.updated_on output_conformer.x  \\\n",
       "0  2021-06-14T11:03:46.076427  2021-06-14T11:03:46.076427              [0.0]   \n",
       "\n",
       "  output_conformer.y output_conformer.z output_conformer.atomic_numbers  \n",
       "0              [0.0]              [0.0]                             [2]  \n",
       "\n",
       "[1 rows x 22 columns]"
      ]
     },
     "execution_count": 27,
     "metadata": {},
     "output_type": "execute_result"
    }
   ],
   "source": [
    "user_client.query_database(\n",
    "    types=[\"calculation\", \"initial_conformer\", \"output_conformer\"],\n",
    "    joins=[\n",
    "        {\n",
    "            \"type\": 'initial_conformer',\n",
    "            \"on\": {\n",
    "                \"column1\": \"initial_conformer.conformer_id\",\n",
    "                \"column2\": \"calculation.conformer_id\"\n",
    "            },\n",
    "        }, \n",
    "        {\n",
    "            \"type\": 'output_conformer',\n",
    "            \"on\": {\n",
    "                \"column1\": \"output_conformer.conformer_id\",\n",
    "                \"column2\": \"calculation.output_conformer_id\"\n",
    "            },\n",
    "        }\n",
    "    ],\n",
    "    aliases=[\n",
    "        {\"type\": \"conformer\", \"alias\": \"initial_conformer\"},\n",
    "        {\"type\": \"conformer\", \"alias\": \"output_conformer\"}\n",
    "    ]\n",
    ")"
   ]
  },
  {
   "cell_type": "markdown",
   "id": "9c1d37ea",
   "metadata": {},
   "source": [
    "This way the backend knows precisely which columns we are referring to in our join."
   ]
  },
  {
   "cell_type": "markdown",
   "id": "4bad632d",
   "metadata": {},
   "source": [
    "#### Filtering\n",
    "\n",
    "It's also possible to filter the entries:"
   ]
  },
  {
   "cell_type": "code",
   "execution_count": 28,
   "id": "dbb756e8",
   "metadata": {},
   "outputs": [
    {
     "data": {
      "text/html": [
       "<div>\n",
       "<style scoped>\n",
       "    .dataframe tbody tr th:only-of-type {\n",
       "        vertical-align: middle;\n",
       "    }\n",
       "\n",
       "    .dataframe tbody tr th {\n",
       "        vertical-align: top;\n",
       "    }\n",
       "\n",
       "    .dataframe thead th {\n",
       "        text-align: right;\n",
       "    }\n",
       "</style>\n",
       "<table border=\"1\" class=\"dataframe\">\n",
       "  <thead>\n",
       "    <tr style=\"text-align: right;\">\n",
       "      <th></th>\n",
       "      <th>molecule_id</th>\n",
       "      <th>created_on</th>\n",
       "      <th>updated_on</th>\n",
       "      <th>metadata</th>\n",
       "      <th>smiles</th>\n",
       "      <th>molecule_type_id</th>\n",
       "    </tr>\n",
       "  </thead>\n",
       "  <tbody>\n",
       "    <tr>\n",
       "      <th>0</th>\n",
       "      <td>e022838c-7d0a-47f1-a4fd-1c88834aa295</td>\n",
       "      <td>2021-06-14T11:03:34.113734</td>\n",
       "      <td>2021-06-14T11:03:34.113734</td>\n",
       "      <td>{'name': 'caffeine'}</td>\n",
       "      <td>CN1C=NC2=C1C(=O)N(C(=O)N2C)C</td>\n",
       "      <td>f82607ba-3092-4d54-87f9-95f95e29f556</td>\n",
       "    </tr>\n",
       "  </tbody>\n",
       "</table>\n",
       "</div>"
      ],
      "text/plain": [
       "                            molecule_id                  created_on  \\\n",
       "0  e022838c-7d0a-47f1-a4fd-1c88834aa295  2021-06-14T11:03:34.113734   \n",
       "\n",
       "                   updated_on              metadata  \\\n",
       "0  2021-06-14T11:03:34.113734  {'name': 'caffeine'}   \n",
       "\n",
       "                         smiles                      molecule_type_id  \n",
       "0  CN1C=NC2=C1C(=O)N(C(=O)N2C)C  f82607ba-3092-4d54-87f9-95f95e29f556  "
      ]
     },
     "execution_count": 28,
     "metadata": {},
     "output_type": "execute_result"
    }
   ],
   "source": [
    "user_client.query_database(\n",
    "    types='molecule', \n",
    "    filters={\n",
    "        'type': \"molecule.metadata.name\",\n",
    "        \"op\": \"==\",\n",
    "        \"value\": \"caffeine\"\n",
    "    }\n",
    ")"
   ]
  },
  {
   "cell_type": "markdown",
   "id": "2a062632",
   "metadata": {},
   "source": [
    "The available operators are:\n",
    "   \n",
    "\n",
    "| Operator                            | String     |\n",
    "| ---                                 | ---        |\n",
    "| Equal                               | \"==\"       |\n",
    "| Not equal                           | \"!=\"       |\n",
    "| Greater than                        | \">\"        |\n",
    "| Lower than                          | \"<\"        |\n",
    "| Greater or equal                    | \">=\"       |\n",
    "| Lower or equal                      | \"<=\"       |\n",
    "| In                                  | \"in\"       |\n",
    "| Not in                              |  \"not_in\"  |\n",
    "| Pattern matching (case sensitive)   | \"like\"     |\n",
    "| Pattern matching (cas insensitive)  | \"ilike\"    |\n",
    "|                                     | \"notlike\"  |\n",
    "|                                     | \"notilike\" |\n",
    "\n",
    "For the pattern matching operators, please refer to [the postgresql documentation](https://www.postgresql.org/docs/current/functions-matching.html#FUNCTIONS-LIKE)"
   ]
  },
  {
   "cell_type": "markdown",
   "id": "92814f0d",
   "metadata": {},
   "source": [
    "#### Ordering\n",
    "\n",
    "The output of a query can be ordered according to any field."
   ]
  },
  {
   "cell_type": "code",
   "execution_count": 29,
   "id": "12ed2b2b",
   "metadata": {},
   "outputs": [
    {
     "data": {
      "text/plain": [
       "{'type': 'molecule',\n",
       " 'id': 15,\n",
       " 'uuid': 'be6ef682-3230-42c9-abe4-9e936a38cbcc',\n",
       " 'event': 'create',\n",
       " 'data': {'smiles': 'CC(=O)OC1=CC=CC=C1C(=O)O',\n",
       "  'metadata': {'name': 'aspirin'}},\n",
       " 'timestamp': '2021-06-14T11:03:52.493850',\n",
       " 'alembic_version': ['0bc99b5f8fcc'],\n",
       " 'user_id': 1}"
      ]
     },
     "execution_count": 29,
     "metadata": {},
     "output_type": "execute_result"
    }
   ],
   "source": [
    "user_client.create_entry(\n",
    "    type='molecule',\n",
    "    data={\n",
    "        \"smiles\": \"CC(=O)OC1=CC=CC=C1C(=O)O\",\n",
    "        \"metadata\": {\n",
    "            \"name\": \"aspirin\"\n",
    "        }\n",
    "    }\n",
    ")"
   ]
  },
  {
   "cell_type": "code",
   "execution_count": 30,
   "id": "b38fd0e0",
   "metadata": {},
   "outputs": [
    {
     "data": {
      "text/html": [
       "<div>\n",
       "<style scoped>\n",
       "    .dataframe tbody tr th:only-of-type {\n",
       "        vertical-align: middle;\n",
       "    }\n",
       "\n",
       "    .dataframe tbody tr th {\n",
       "        vertical-align: top;\n",
       "    }\n",
       "\n",
       "    .dataframe thead th {\n",
       "        text-align: right;\n",
       "    }\n",
       "</style>\n",
       "<table border=\"1\" class=\"dataframe\">\n",
       "  <thead>\n",
       "    <tr style=\"text-align: right;\">\n",
       "      <th></th>\n",
       "      <th>molecule_id</th>\n",
       "      <th>created_on</th>\n",
       "      <th>updated_on</th>\n",
       "      <th>metadata</th>\n",
       "      <th>smiles</th>\n",
       "      <th>molecule_type_id</th>\n",
       "    </tr>\n",
       "  </thead>\n",
       "  <tbody>\n",
       "    <tr>\n",
       "      <th>0</th>\n",
       "      <td>be6ef682-3230-42c9-abe4-9e936a38cbcc</td>\n",
       "      <td>2021-06-14T11:03:52.493850</td>\n",
       "      <td>2021-06-14T11:03:52.493850</td>\n",
       "      <td>{'name': 'aspirin'}</td>\n",
       "      <td>CC(=O)OC1=CC=CC=C1C(=O)O</td>\n",
       "      <td>None</td>\n",
       "    </tr>\n",
       "    <tr>\n",
       "      <th>1</th>\n",
       "      <td>e022838c-7d0a-47f1-a4fd-1c88834aa295</td>\n",
       "      <td>2021-06-14T11:03:34.113734</td>\n",
       "      <td>2021-06-14T11:03:34.113734</td>\n",
       "      <td>{'name': 'caffeine'}</td>\n",
       "      <td>CN1C=NC2=C1C(=O)N(C(=O)N2C)C</td>\n",
       "      <td>f82607ba-3092-4d54-87f9-95f95e29f556</td>\n",
       "    </tr>\n",
       "  </tbody>\n",
       "</table>\n",
       "</div>"
      ],
      "text/plain": [
       "                            molecule_id                  created_on  \\\n",
       "0  be6ef682-3230-42c9-abe4-9e936a38cbcc  2021-06-14T11:03:52.493850   \n",
       "1  e022838c-7d0a-47f1-a4fd-1c88834aa295  2021-06-14T11:03:34.113734   \n",
       "\n",
       "                   updated_on              metadata  \\\n",
       "0  2021-06-14T11:03:52.493850   {'name': 'aspirin'}   \n",
       "1  2021-06-14T11:03:34.113734  {'name': 'caffeine'}   \n",
       "\n",
       "                         smiles                      molecule_type_id  \n",
       "0      CC(=O)OC1=CC=CC=C1C(=O)O                                  None  \n",
       "1  CN1C=NC2=C1C(=O)N(C(=O)N2C)C  f82607ba-3092-4d54-87f9-95f95e29f556  "
      ]
     },
     "execution_count": 30,
     "metadata": {},
     "output_type": "execute_result"
    }
   ],
   "source": [
    "user_client.query_database(\n",
    "    types='molecule',\n",
    "    order_by={'type': 'molecule.metadata.name', 'order': 'asc'}\n",
    ")"
   ]
  },
  {
   "cell_type": "markdown",
   "id": "a7e639c5",
   "metadata": {},
   "source": [
    "## Removing a database\n",
    "\n",
    "Databases can be removed. The following example will remove completely the database `compchem` (users and data). Be careful when using this command in code."
   ]
  },
  {
   "cell_type": "code",
   "execution_count": 31,
   "id": "ea6fa61d",
   "metadata": {},
   "outputs": [
    {
     "data": {
      "text/html": [
       "<pre style=\"white-space:pre;overflow-x:auto;line-height:normal;font-family:Menlo,'DejaVu Sans Mono',consolas,'Courier New',monospace\"><span style=\"color: #7fbfbf; text-decoration-color: #7fbfbf\">[13:03:58] </span><span style=\"color: #000080; text-decoration-color: #000080\">INFO    </span> The database has been scheduled for deletion!               <a href=\"file:///Users/tga/AGG/code/goldmine/molar/client.py\"><span style=\"color: #7f7f7f; text-decoration-color: #7f7f7f\">client.py</span></a><span style=\"color: #7f7f7f; text-decoration-color: #7f7f7f\">:108</span>\n",
       "</pre>\n"
      ],
      "text/plain": [
       "\u001b[2;36m[13:03:58]\u001b[0m\u001b[2;36m \u001b[0m\u001b[34mINFO    \u001b[0m The database has been scheduled for deletion!               \u001b]8;id=1623668638.5885508-72871;file:///Users/tga/AGG/code/goldmine/molar/client.py\u001b\\\u001b[2mclient.py\u001b[0m\u001b]8;;\u001b\\\u001b[2m:108\u001b[0m\n"
      ]
     },
     "metadata": {},
     "output_type": "display_data"
    },
    {
     "data": {
      "text/plain": [
       "{'msg': 'The database has been scheduled for deletion!'}"
      ]
     },
     "execution_count": 31,
     "metadata": {},
     "output_type": "execute_result"
    }
   ],
   "source": [
    "admin_client.remove_database(\"compchem\")"
   ]
  }
 ],
 "metadata": {
  "kernelspec": {
   "display_name": "Python 2",
   "language": "python",
   "name": "python2"
  },
  "language_info": {
   "codemirror_mode": {
    "name": "ipython",
    "version": 3
   },
   "file_extension": ".py",
   "mimetype": "text/x-python",
   "name": "python",
   "nbconvert_exporter": "python",
   "pygments_lexer": "ipython3",
   "version": "3.7.9"
  }
 },
 "nbformat": 4,
 "nbformat_minor": 5
}
